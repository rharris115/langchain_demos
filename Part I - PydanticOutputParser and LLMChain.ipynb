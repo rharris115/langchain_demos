{
 "cells": [
  {
   "cell_type": "code",
   "execution_count": 28,
   "id": "e6164a59-72c3-4341-a2f7-7c55fbbd2a76",
   "metadata": {},
   "outputs": [
    {
     "data": {
      "text/plain": [
       "True"
      ]
     },
     "execution_count": 28,
     "metadata": {},
     "output_type": "execute_result"
    }
   ],
   "source": [
    "from dotenv import load_dotenv\n",
    "from pydantic import BaseModel, Field\n",
    "import pandas as pd\n",
    "from enum import Enum\n",
    "import graphviz as gv\n",
    "from langchain.prompts.chat import PromptTemplate\n",
    "from langchain.chat_models import ChatOpenAI\n",
    "from langchain.output_parsers import PydanticOutputParser\n",
    "from langchain.chains import LLMChain, ConversationChain\n",
    "from langchain.memory import ConversationBufferMemory\n",
    " \n",
    "load_dotenv()"
   ]
  },
  {
   "cell_type": "code",
   "execution_count": 2,
   "id": "e42f3956-c2b6-4c75-8a8d-bce4dda6fa49",
   "metadata": {},
   "outputs": [],
   "source": [
    "llm = ChatOpenAI(model_name=\"gpt-4\")"
   ]
  },
  {
   "cell_type": "code",
   "execution_count": 34,
   "id": "673b5dbf-f5e2-4c46-ad8f-f83031d3d6a6",
   "metadata": {},
   "outputs": [
    {
     "data": {
      "text/html": [
       "<iframe src=\"https://python.langchain.com/docs/modules/model_io/models/llms/\" width=\"1200\" height=\"400\"></iframe>\n"
      ],
      "text/plain": [
       "<IPython.core.display.HTML object>"
      ]
     },
     "metadata": {},
     "output_type": "display_data"
    }
   ],
   "source": [
    "%%html\n",
    "<iframe src=\"https://python.langchain.com/docs/modules/model_io/models/llms/\" width=\"1200\" height=\"400\"></iframe>\n"
   ]
  },
  {
   "cell_type": "markdown",
   "id": "f20f814a-7576-46cc-a549-052d4f8014cf",
   "metadata": {},
   "source": [
    "# A Simple Prompt\n",
    "For this example, we will ask `ChatGPT` to create a small village in a particular location, in a particular year, and with a specified number of inhabitants."
   ]
  },
  {
   "cell_type": "code",
   "execution_count": 36,
   "id": "276fb0e2-734a-4d2d-8587-55023695f717",
   "metadata": {},
   "outputs": [
    {
     "data": {
      "text/html": [
       "<iframe src=\"https://python.langchain.com/docs/modules/model_io/prompts/prompt_templates/\" width=\"1200\" height=\"400\"></iframe>\n"
      ],
      "text/plain": [
       "<IPython.core.display.HTML object>"
      ]
     },
     "metadata": {},
     "output_type": "display_data"
    }
   ],
   "source": [
    "%%html\n",
    "<iframe src=\"https://python.langchain.com/docs/modules/model_io/prompts/prompt_templates/\" width=\"1200\" height=\"400\"></iframe>\n"
   ]
  },
  {
   "cell_type": "code",
   "execution_count": 3,
   "id": "6bde213d-ebb5-4ff3-a3f5-3320e2402073",
   "metadata": {},
   "outputs": [],
   "source": [
    "PROMPT_FORMAT = \"\"\"\n",
    "Create a village in {location} in the year {year}. Describe {population} villagers along with their family relations to one another.\n",
    "\"\"\"\n",
    "\n",
    "simple_prompt = PromptTemplate.from_template(PROMPT_FORMAT)\n",
    "simple_prompt_with_values = simple_prompt.format_prompt(\n",
    "    location=\"Yorkshire, England\",\n",
    "    year=900,\n",
    "    population=10,\n",
    ")"
   ]
  },
  {
   "cell_type": "code",
   "execution_count": 4,
   "id": "da27ed9b-2928-47a3-9184-7a33f028f51b",
   "metadata": {},
   "outputs": [
    {
     "data": {
      "text/plain": [
       "\"Village Name: Yorkthorpe\\n\\n1. Eadric: Eadric is the village leader, a man in his late 50s, wise and respected by all. He inherited the leadership from his late father, Aelred. He is married to Hilda and they have three children. \\n\\n2. Hilda: Hilda is Eadric's wife, a woman of grace and kindness. She is known for her herbal remedies and healing abilities. She is the mother of Aelfric, Cynewise, and Elfrida.\\n\\n3. Aelfric: The eldest son of Eadric and Hilda, Aelfric is a brave and skilled warrior. At 30 years old, he is preparing to take over his father's position as village leader. He is married to Leofrun and they have two children.\\n\\n4. Cynewise: Cynewise is the only daughter of Eadric and Hilda. She is 28 years old, beautiful, and known for her skills in weaving. She is married to Godric and they have one son.\\n\\n5. Elfrida: Elfrida is the youngest child of Eadric and Hilda, about 18 years old. She is intelligent, curious, and dreams of exploring beyond the borders of Yorkthorpe. \\n\\n6. Leofrun: Leofrun is Aelfric's wife. She is a strong-willed woman and a skilled archer. They have two children, a boy named Wulfric and a girl named Eadith.\\n\\n7. Godric: Godric is Cynewise's husband. He is a skilled blacksmith, providing the village with all its tools and weaponry. He and Cynewise have a newborn son named Eadgar.\\n\\n8. Wulfric: The eldest child of Aelfric and Leofrun, Wulfric is a 10-year-old boy eager to follow in his father's footsteps as a warrior.\\n\\n9. Eadith: Eadith is the younger child of Aelfric and Leofrun. At 7 years old, she is playful and loves to assist her grandmother Hilda in her healing practices.\\n\\n10. Eadgar: Eadgar is the newborn son of Cynewise and Godric. He is the youngest member of the village and is loved and adored by all.\""
      ]
     },
     "execution_count": 4,
     "metadata": {},
     "output_type": "execute_result"
    }
   ],
   "source": [
    "response = llm(simple_prompt_with_values.to_messages())\n",
    "response.content"
   ]
  },
  {
   "cell_type": "markdown",
   "id": "60a89a9e-58f0-48ba-bf87-4a3d80a3deee",
   "metadata": {},
   "source": [
    "# A Simple Prompt with Parsed Outputs"
   ]
  },
  {
   "cell_type": "markdown",
   "id": "268b1b06-dbd4-408f-8850-091adee74142",
   "metadata": {},
   "source": [
    "## Pydantic: A Model and Parser"
   ]
  },
  {
   "cell_type": "code",
   "execution_count": 29,
   "id": "c914db2d-a3d7-4241-af02-c9ad5ab954b9",
   "metadata": {
    "scrolled": true
   },
   "outputs": [
    {
     "data": {
      "text/html": [
       "<iframe src=\"https://docs.pydantic.dev/latest/\" width=\"1200\" height=\"400\"></iframe>\n"
      ],
      "text/plain": [
       "<IPython.core.display.HTML object>"
      ]
     },
     "metadata": {},
     "output_type": "display_data"
    }
   ],
   "source": [
    "%%html\n",
    "<iframe src=\"https://docs.pydantic.dev/latest/\" width=\"1200\" height=\"400\"></iframe>\n"
   ]
  },
  {
   "cell_type": "markdown",
   "id": "1865a271-da1b-49b4-8e52-78f267c11291",
   "metadata": {},
   "source": [
    "### Add a \"format instructions\" parameter to the prompt."
   ]
  },
  {
   "cell_type": "code",
   "execution_count": 5,
   "id": "95f050d7-21e2-48bb-b602-f58cefe35fa9",
   "metadata": {},
   "outputs": [],
   "source": [
    "class Villager(BaseModel):\n",
    "    name: str\n",
    "    age: int\n",
    "    sex: str\n",
    "    occupation: str\n",
    "    ethnicity: str\n",
    "\n",
    "\n",
    "class RelationshipType(Enum):\n",
    "    SPOUSE_OF = \"spouse of\"\n",
    "    PARENT_OF = \"parent of\"\n",
    "\n",
    "\n",
    "class Relationship(BaseModel):\n",
    "    subject_name: str = Field(\n",
    "        \"the subject of the relationship (e.g. Jane, subject, is a sibling of Sam, object.)\"\n",
    "    )\n",
    "    object_name: str = Field(\n",
    "        \"the object of the relationship (e.g. Jane, subject, is a sibling of Sam, object.)\"\n",
    "    )\n",
    "    type: RelationshipType\n",
    "\n",
    "\n",
    "class Village(BaseModel):\n",
    "    name: str\n",
    "    description: str\n",
    "    county: str\n",
    "    year: int\n",
    "    villagers: list[Villager]\n",
    "    relationships: list[Relationship]\n",
    "\n",
    "\n",
    "pydantic_parser = PydanticOutputParser(pydantic_object=Village)"
   ]
  },
  {
   "cell_type": "code",
   "execution_count": 33,
   "id": "98a86aad-9bed-4166-aa69-88d94309cc0d",
   "metadata": {
    "scrolled": true
   },
   "outputs": [
    {
     "data": {
      "text/html": [
       "<iframe src=\"https://python.langchain.com/docs/modules/model_io/output_parsers/pydantic\" width=\"1200\" height=\"400\"></iframe>\n"
      ],
      "text/plain": [
       "<IPython.core.display.HTML object>"
      ]
     },
     "metadata": {},
     "output_type": "display_data"
    }
   ],
   "source": [
    "%%html\n",
    "<iframe src=\"https://python.langchain.com/docs/modules/model_io/output_parsers/pydantic\" width=\"1200\" height=\"400\"></iframe>\n"
   ]
  },
  {
   "cell_type": "code",
   "execution_count": 6,
   "id": "d53d6efe-7baf-465b-ae81-7535c994bef2",
   "metadata": {},
   "outputs": [
    {
     "data": {
      "text/plain": [
       "'\\nCreate a village in {location} in the year {year}. Describe {population} villagers along with their family relations to one another.\\n\\n{format_instructions}\\nThe output should not deviate from this format in any way.'"
      ]
     },
     "execution_count": 6,
     "metadata": {},
     "output_type": "execute_result"
    }
   ],
   "source": [
    "PROMPT_FORMAT_FOR_PARSING = (\n",
    "    PROMPT_FORMAT\n",
    "    + \"\\n{format_instructions}\\nThe output should not deviate from this format in any way.\"\n",
    ")\n",
    "PROMPT_FORMAT_FOR_PARSING"
   ]
  },
  {
   "cell_type": "code",
   "execution_count": 7,
   "id": "598fc126-8144-430d-9c53-145c590c75d0",
   "metadata": {},
   "outputs": [],
   "source": [
    "prompt = PromptTemplate.from_template(PROMPT_FORMAT_FOR_PARSING)\n",
    "prompt_with_values = prompt.format_prompt(\n",
    "    location=\"Jórvík\",\n",
    "    year=900,\n",
    "    population=10,\n",
    "    format_instructions=pydantic_parser.get_format_instructions(),\n",
    ")"
   ]
  },
  {
   "cell_type": "code",
   "execution_count": 22,
   "id": "37496e1d-4f7e-450c-a69e-6ac88168f140",
   "metadata": {},
   "outputs": [
    {
     "data": {
      "text/plain": [
       "[HumanMessage(content='\\nCreate a village in Jórvík in the year 900. Describe 10 villagers along with their family relations to one another.\\n\\nThe output should be formatted as a JSON instance that conforms to the JSON schema below.\\n\\nAs an example, for the schema {\"properties\": {\"foo\": {\"title\": \"Foo\", \"description\": \"a list of strings\", \"type\": \"array\", \"items\": {\"type\": \"string\"}}}, \"required\": [\"foo\"]}\\nthe object {\"foo\": [\"bar\", \"baz\"]} is a well-formatted instance of the schema. The object {\"properties\": {\"foo\": [\"bar\", \"baz\"]}} is not well-formatted.\\n\\nHere is the output schema:\\n```\\n{\"$defs\": {\"Relationship\": {\"properties\": {\"subject_name\": {\"default\": \"the subject of the relationship (e.g. Jane, subject, is a sibling of Sam, object.)\", \"title\": \"Subject Name\", \"type\": \"string\"}, \"object_name\": {\"default\": \"the object of the relationship (e.g. Jane, subject, is a sibling of Sam, object.)\", \"title\": \"Object Name\", \"type\": \"string\"}, \"type\": {\"$ref\": \"#/$defs/RelationshipType\"}}, \"required\": [\"type\"], \"title\": \"Relationship\", \"type\": \"object\"}, \"RelationshipType\": {\"enum\": [\"spouse of\", \"parent of\"], \"title\": \"RelationshipType\", \"type\": \"string\"}, \"Villager\": {\"properties\": {\"name\": {\"title\": \"Name\", \"type\": \"string\"}, \"age\": {\"title\": \"Age\", \"type\": \"integer\"}, \"sex\": {\"title\": \"Sex\", \"type\": \"string\"}, \"occupation\": {\"title\": \"Occupation\", \"type\": \"string\"}, \"ethnicity\": {\"title\": \"Ethnicity\", \"type\": \"string\"}}, \"required\": [\"name\", \"age\", \"sex\", \"occupation\", \"ethnicity\"], \"title\": \"Villager\", \"type\": \"object\"}}, \"properties\": {\"name\": {\"title\": \"Name\", \"type\": \"string\"}, \"description\": {\"title\": \"Description\", \"type\": \"string\"}, \"county\": {\"title\": \"County\", \"type\": \"string\"}, \"year\": {\"title\": \"Year\", \"type\": \"integer\"}, \"villagers\": {\"items\": {\"$ref\": \"#/$defs/Villager\"}, \"title\": \"Villagers\", \"type\": \"array\"}, \"relationships\": {\"items\": {\"$ref\": \"#/$defs/Relationship\"}, \"title\": \"Relationships\", \"type\": \"array\"}}, \"required\": [\"name\", \"description\", \"county\", \"year\", \"villagers\", \"relationships\"]}\\n```\\nThe output should not deviate from this format in any way.', additional_kwargs={}, example=False)]"
      ]
     },
     "execution_count": 22,
     "metadata": {},
     "output_type": "execute_result"
    }
   ],
   "source": [
    "prompt_with_values.to_messages()"
   ]
  },
  {
   "cell_type": "code",
   "execution_count": 8,
   "id": "f988ba6a-0411-4413-b6d5-3892335ee45b",
   "metadata": {},
   "outputs": [],
   "source": [
    "response_to_parse = llm(prompt_with_values.to_messages())"
   ]
  },
  {
   "cell_type": "code",
   "execution_count": 32,
   "id": "6668dd62-b5ff-4b09-b615-803f61f8a792",
   "metadata": {},
   "outputs": [
    {
     "data": {
      "text/plain": [
       "AIMessage(content='{\\n  \"name\": \"Jórvík Village\",\\n  \"description\": \"A small Viking village in Jórvík surrounded by beautiful landscapes and rivers.\",\\n  \"county\": \"Yorkshire\",\\n  \"year\": 900,\\n  \"villagers\": [\\n    {\\n      \"name\": \"Erik\",\\n      \"age\": 45,\\n      \"sex\": \"Male\",\\n      \"occupation\": \"Blacksmith\",\\n      \"ethnicity\": \"Norse\"\\n    },\\n    {\\n      \"name\": \"Astrid\",\\n      \"age\": 40,\\n      \"sex\": \"Female\",\\n      \"occupation\": \"Weaver\",\\n      \"ethnicity\": \"Norse\"\\n    },\\n    {\\n      \"name\": \"Bjorn\",\\n      \"age\": 20,\\n      \"sex\": \"Male\",\\n      \"occupation\": \"Warrior\",\\n      \"ethnicity\": \"Norse\"\\n    },\\n    {\\n      \"name\": \"Ingrid\",\\n      \"age\": 18,\\n      \"sex\": \"Female\",\\n      \"occupation\": \"Farmer\",\\n      \"ethnicity\": \"Norse\"\\n    },\\n    {\\n      \"name\": \"Ragnar\",\\n      \"age\": 50,\\n      \"sex\": \"Male\",\\n      \"occupation\": \"Chieftain\",\\n      \"ethnicity\": \"Norse\"\\n    },\\n    {\\n      \"name\": \"Lagertha\",\\n      \"age\": 48,\\n      \"sex\": \"Female\",\\n      \"occupation\": \"Shield-maiden\",\\n      \"ethnicity\": \"Norse\"\\n    },\\n    {\\n      \"name\": \"Ivar\",\\n      \"age\": 22,\\n      \"sex\": \"Male\",\\n      \"occupation\": \"Warrior\",\\n      \"ethnicity\": \"Norse\"\\n    },\\n    {\\n      \"name\": \"Helga\",\\n      \"age\": 21,\\n      \"sex\": \"Female\",\\n      \"occupation\": \"Herbalist\",\\n      \"ethnicity\": \"Norse\"\\n    },\\n    {\\n      \"name\": \"Floki\",\\n      \"age\": 35,\\n      \"sex\": \"Male\",\\n      \"occupation\": \"Boatbuilder\",\\n      \"ethnicity\": \"Norse\"\\n    },\\n    {\\n      \"name\": \"Siggy\",\\n      \"age\": 30,\\n      \"sex\": \"Female\",\\n      \"occupation\": \"Baker\",\\n      \"ethnicity\": \"Norse\"\\n    }\\n  ],\\n  \"relationships\": [\\n    {\\n      \"subject_name\": \"Erik\",\\n      \"object_name\": \"Astrid\",\\n      \"type\": \"spouse of\"\\n    },\\n    {\\n      \"subject_name\": \"Erik\",\\n      \"object_name\": \"Bjorn\",\\n      \"type\": \"parent of\"\\n    },\\n    {\\n      \"subject_name\": \"Astrid\",\\n      \"object_name\": \"Ingrid\",\\n      \"type\": \"parent of\"\\n    },\\n    {\\n      \"subject_name\": \"Ragnar\",\\n      \"object_name\": \"Lagertha\",\\n      \"type\": \"spouse of\"\\n    },\\n    {\\n      \"subject_name\": \"Ragnar\",\\n      \"object_name\": \"Ivar\",\\n      \"type\": \"parent of\"\\n    },\\n    {\\n      \"subject_name\": \"Lagertha\",\\n      \"object_name\": \"Helga\",\\n      \"type\": \"parent of\"\\n    },\\n    {\\n      \"subject_name\": \"Floki\",\\n      \"object_name\": \"Siggy\",\\n      \"type\": \"spouse of\"\\n    }\\n  ]\\n}', additional_kwargs={}, example=False)"
      ]
     },
     "execution_count": 32,
     "metadata": {},
     "output_type": "execute_result"
    }
   ],
   "source": [
    "response_to_parse"
   ]
  },
  {
   "cell_type": "code",
   "execution_count": 9,
   "id": "c3ac8530-f63e-445e-a5f2-5d5b48c6c5c7",
   "metadata": {},
   "outputs": [
    {
     "data": {
      "text/plain": [
       "Village(name='Jórvík Village', description='A small Viking village in Jórvík surrounded by beautiful landscapes and rivers.', county='Yorkshire', year=900, villagers=[Villager(name='Erik', age=45, sex='Male', occupation='Blacksmith', ethnicity='Norse'), Villager(name='Astrid', age=40, sex='Female', occupation='Weaver', ethnicity='Norse'), Villager(name='Bjorn', age=20, sex='Male', occupation='Warrior', ethnicity='Norse'), Villager(name='Ingrid', age=18, sex='Female', occupation='Farmer', ethnicity='Norse'), Villager(name='Ragnar', age=50, sex='Male', occupation='Chieftain', ethnicity='Norse'), Villager(name='Lagertha', age=48, sex='Female', occupation='Shield-maiden', ethnicity='Norse'), Villager(name='Ivar', age=22, sex='Male', occupation='Warrior', ethnicity='Norse'), Villager(name='Helga', age=21, sex='Female', occupation='Herbalist', ethnicity='Norse'), Villager(name='Floki', age=35, sex='Male', occupation='Boatbuilder', ethnicity='Norse'), Villager(name='Siggy', age=30, sex='Female', occupation='Baker', ethnicity='Norse')], relationships=[Relationship(subject_name='Erik', object_name='Astrid', type=<RelationshipType.SPOUSE_OF: 'spouse of'>), Relationship(subject_name='Erik', object_name='Bjorn', type=<RelationshipType.PARENT_OF: 'parent of'>), Relationship(subject_name='Astrid', object_name='Ingrid', type=<RelationshipType.PARENT_OF: 'parent of'>), Relationship(subject_name='Ragnar', object_name='Lagertha', type=<RelationshipType.SPOUSE_OF: 'spouse of'>), Relationship(subject_name='Ragnar', object_name='Ivar', type=<RelationshipType.PARENT_OF: 'parent of'>), Relationship(subject_name='Lagertha', object_name='Helga', type=<RelationshipType.PARENT_OF: 'parent of'>), Relationship(subject_name='Floki', object_name='Siggy', type=<RelationshipType.SPOUSE_OF: 'spouse of'>)])"
      ]
     },
     "execution_count": 9,
     "metadata": {},
     "output_type": "execute_result"
    }
   ],
   "source": [
    "village = pydantic_parser.parse(response_to_parse.content)\n",
    "village"
   ]
  },
  {
   "cell_type": "markdown",
   "id": "c8042061-1227-4db3-87fc-346065381f7c",
   "metadata": {},
   "source": [
    "### So how does this work?\n",
    "It's not magic. The `pydantic_parser` simply provides instructions that are formatted by the templates `{format_instructions}` parameter and `ChatGPT` follows these ... usually."
   ]
  },
  {
   "cell_type": "code",
   "execution_count": 10,
   "id": "7ca32c0c-774a-4442-867a-cfc96e306e34",
   "metadata": {},
   "outputs": [
    {
     "data": {
      "text/plain": [
       "'The output should be formatted as a JSON instance that conforms to the JSON schema below.\\n\\nAs an example, for the schema {\"properties\": {\"foo\": {\"title\": \"Foo\", \"description\": \"a list of strings\", \"type\": \"array\", \"items\": {\"type\": \"string\"}}}, \"required\": [\"foo\"]}\\nthe object {\"foo\": [\"bar\", \"baz\"]} is a well-formatted instance of the schema. The object {\"properties\": {\"foo\": [\"bar\", \"baz\"]}} is not well-formatted.\\n\\nHere is the output schema:\\n```\\n{\"$defs\": {\"Relationship\": {\"properties\": {\"subject_name\": {\"default\": \"the subject of the relationship (e.g. Jane, subject, is a sibling of Sam, object.)\", \"title\": \"Subject Name\", \"type\": \"string\"}, \"object_name\": {\"default\": \"the object of the relationship (e.g. Jane, subject, is a sibling of Sam, object.)\", \"title\": \"Object Name\", \"type\": \"string\"}, \"type\": {\"$ref\": \"#/$defs/RelationshipType\"}}, \"required\": [\"type\"], \"title\": \"Relationship\", \"type\": \"object\"}, \"RelationshipType\": {\"enum\": [\"spouse of\", \"parent of\"], \"title\": \"RelationshipType\", \"type\": \"string\"}, \"Villager\": {\"properties\": {\"name\": {\"title\": \"Name\", \"type\": \"string\"}, \"age\": {\"title\": \"Age\", \"type\": \"integer\"}, \"sex\": {\"title\": \"Sex\", \"type\": \"string\"}, \"occupation\": {\"title\": \"Occupation\", \"type\": \"string\"}, \"ethnicity\": {\"title\": \"Ethnicity\", \"type\": \"string\"}}, \"required\": [\"name\", \"age\", \"sex\", \"occupation\", \"ethnicity\"], \"title\": \"Villager\", \"type\": \"object\"}}, \"properties\": {\"name\": {\"title\": \"Name\", \"type\": \"string\"}, \"description\": {\"title\": \"Description\", \"type\": \"string\"}, \"county\": {\"title\": \"County\", \"type\": \"string\"}, \"year\": {\"title\": \"Year\", \"type\": \"integer\"}, \"villagers\": {\"items\": {\"$ref\": \"#/$defs/Villager\"}, \"title\": \"Villagers\", \"type\": \"array\"}, \"relationships\": {\"items\": {\"$ref\": \"#/$defs/Relationship\"}, \"title\": \"Relationships\", \"type\": \"array\"}}, \"required\": [\"name\", \"description\", \"county\", \"year\", \"villagers\", \"relationships\"]}\\n```'"
      ]
     },
     "execution_count": 10,
     "metadata": {},
     "output_type": "execute_result"
    }
   ],
   "source": [
    "pydantic_parser.get_format_instructions()"
   ]
  },
  {
   "cell_type": "markdown",
   "id": "11b84030-e808-465e-9946-cbf739810bac",
   "metadata": {},
   "source": [
    "## Pandas"
   ]
  },
  {
   "cell_type": "code",
   "execution_count": 11,
   "id": "53466d34-173b-42ab-b5f6-834206368be1",
   "metadata": {},
   "outputs": [
    {
     "data": {
      "text/html": [
       "<div>\n",
       "<style scoped>\n",
       "    .dataframe tbody tr th:only-of-type {\n",
       "        vertical-align: middle;\n",
       "    }\n",
       "\n",
       "    .dataframe tbody tr th {\n",
       "        vertical-align: top;\n",
       "    }\n",
       "\n",
       "    .dataframe thead th {\n",
       "        text-align: right;\n",
       "    }\n",
       "</style>\n",
       "<table border=\"1\" class=\"dataframe\">\n",
       "  <thead>\n",
       "    <tr style=\"text-align: right;\">\n",
       "      <th></th>\n",
       "      <th>age</th>\n",
       "      <th>sex</th>\n",
       "      <th>occupation</th>\n",
       "      <th>ethnicity</th>\n",
       "    </tr>\n",
       "    <tr>\n",
       "      <th>name</th>\n",
       "      <th></th>\n",
       "      <th></th>\n",
       "      <th></th>\n",
       "      <th></th>\n",
       "    </tr>\n",
       "  </thead>\n",
       "  <tbody>\n",
       "    <tr>\n",
       "      <th>Erik</th>\n",
       "      <td>45</td>\n",
       "      <td>Male</td>\n",
       "      <td>Blacksmith</td>\n",
       "      <td>Norse</td>\n",
       "    </tr>\n",
       "    <tr>\n",
       "      <th>Astrid</th>\n",
       "      <td>40</td>\n",
       "      <td>Female</td>\n",
       "      <td>Weaver</td>\n",
       "      <td>Norse</td>\n",
       "    </tr>\n",
       "    <tr>\n",
       "      <th>Bjorn</th>\n",
       "      <td>20</td>\n",
       "      <td>Male</td>\n",
       "      <td>Warrior</td>\n",
       "      <td>Norse</td>\n",
       "    </tr>\n",
       "    <tr>\n",
       "      <th>Ingrid</th>\n",
       "      <td>18</td>\n",
       "      <td>Female</td>\n",
       "      <td>Farmer</td>\n",
       "      <td>Norse</td>\n",
       "    </tr>\n",
       "    <tr>\n",
       "      <th>Ragnar</th>\n",
       "      <td>50</td>\n",
       "      <td>Male</td>\n",
       "      <td>Chieftain</td>\n",
       "      <td>Norse</td>\n",
       "    </tr>\n",
       "    <tr>\n",
       "      <th>Lagertha</th>\n",
       "      <td>48</td>\n",
       "      <td>Female</td>\n",
       "      <td>Shield-maiden</td>\n",
       "      <td>Norse</td>\n",
       "    </tr>\n",
       "    <tr>\n",
       "      <th>Ivar</th>\n",
       "      <td>22</td>\n",
       "      <td>Male</td>\n",
       "      <td>Warrior</td>\n",
       "      <td>Norse</td>\n",
       "    </tr>\n",
       "    <tr>\n",
       "      <th>Helga</th>\n",
       "      <td>21</td>\n",
       "      <td>Female</td>\n",
       "      <td>Herbalist</td>\n",
       "      <td>Norse</td>\n",
       "    </tr>\n",
       "    <tr>\n",
       "      <th>Floki</th>\n",
       "      <td>35</td>\n",
       "      <td>Male</td>\n",
       "      <td>Boatbuilder</td>\n",
       "      <td>Norse</td>\n",
       "    </tr>\n",
       "    <tr>\n",
       "      <th>Siggy</th>\n",
       "      <td>30</td>\n",
       "      <td>Female</td>\n",
       "      <td>Baker</td>\n",
       "      <td>Norse</td>\n",
       "    </tr>\n",
       "  </tbody>\n",
       "</table>\n",
       "</div>"
      ],
      "text/plain": [
       "          age     sex     occupation ethnicity\n",
       "name                                          \n",
       "Erik       45    Male     Blacksmith     Norse\n",
       "Astrid     40  Female         Weaver     Norse\n",
       "Bjorn      20    Male        Warrior     Norse\n",
       "Ingrid     18  Female         Farmer     Norse\n",
       "Ragnar     50    Male      Chieftain     Norse\n",
       "Lagertha   48  Female  Shield-maiden     Norse\n",
       "Ivar       22    Male        Warrior     Norse\n",
       "Helga      21  Female      Herbalist     Norse\n",
       "Floki      35    Male    Boatbuilder     Norse\n",
       "Siggy      30  Female          Baker     Norse"
      ]
     },
     "execution_count": 11,
     "metadata": {},
     "output_type": "execute_result"
    }
   ],
   "source": [
    "villagers_df = pd.DataFrame(map(BaseModel.model_dump, village.villagers)).set_index(\n",
    "    \"name\"\n",
    ")\n",
    "villagers_df"
   ]
  },
  {
   "cell_type": "code",
   "execution_count": 12,
   "id": "51b468a5-79cc-412c-b334-9170fb36835f",
   "metadata": {},
   "outputs": [
    {
     "data": {
      "text/html": [
       "<div>\n",
       "<style scoped>\n",
       "    .dataframe tbody tr th:only-of-type {\n",
       "        vertical-align: middle;\n",
       "    }\n",
       "\n",
       "    .dataframe tbody tr th {\n",
       "        vertical-align: top;\n",
       "    }\n",
       "\n",
       "    .dataframe thead th {\n",
       "        text-align: right;\n",
       "    }\n",
       "</style>\n",
       "<table border=\"1\" class=\"dataframe\">\n",
       "  <thead>\n",
       "    <tr style=\"text-align: right;\">\n",
       "      <th></th>\n",
       "      <th>subject_name</th>\n",
       "      <th>object_name</th>\n",
       "      <th>type</th>\n",
       "    </tr>\n",
       "  </thead>\n",
       "  <tbody>\n",
       "    <tr>\n",
       "      <th>0</th>\n",
       "      <td>Erik</td>\n",
       "      <td>Astrid</td>\n",
       "      <td>RelationshipType.SPOUSE_OF</td>\n",
       "    </tr>\n",
       "    <tr>\n",
       "      <th>1</th>\n",
       "      <td>Erik</td>\n",
       "      <td>Bjorn</td>\n",
       "      <td>RelationshipType.PARENT_OF</td>\n",
       "    </tr>\n",
       "    <tr>\n",
       "      <th>2</th>\n",
       "      <td>Astrid</td>\n",
       "      <td>Ingrid</td>\n",
       "      <td>RelationshipType.PARENT_OF</td>\n",
       "    </tr>\n",
       "    <tr>\n",
       "      <th>3</th>\n",
       "      <td>Ragnar</td>\n",
       "      <td>Lagertha</td>\n",
       "      <td>RelationshipType.SPOUSE_OF</td>\n",
       "    </tr>\n",
       "    <tr>\n",
       "      <th>4</th>\n",
       "      <td>Ragnar</td>\n",
       "      <td>Ivar</td>\n",
       "      <td>RelationshipType.PARENT_OF</td>\n",
       "    </tr>\n",
       "    <tr>\n",
       "      <th>5</th>\n",
       "      <td>Lagertha</td>\n",
       "      <td>Helga</td>\n",
       "      <td>RelationshipType.PARENT_OF</td>\n",
       "    </tr>\n",
       "    <tr>\n",
       "      <th>6</th>\n",
       "      <td>Floki</td>\n",
       "      <td>Siggy</td>\n",
       "      <td>RelationshipType.SPOUSE_OF</td>\n",
       "    </tr>\n",
       "  </tbody>\n",
       "</table>\n",
       "</div>"
      ],
      "text/plain": [
       "  subject_name object_name                        type\n",
       "0         Erik      Astrid  RelationshipType.SPOUSE_OF\n",
       "1         Erik       Bjorn  RelationshipType.PARENT_OF\n",
       "2       Astrid      Ingrid  RelationshipType.PARENT_OF\n",
       "3       Ragnar    Lagertha  RelationshipType.SPOUSE_OF\n",
       "4       Ragnar        Ivar  RelationshipType.PARENT_OF\n",
       "5     Lagertha       Helga  RelationshipType.PARENT_OF\n",
       "6        Floki       Siggy  RelationshipType.SPOUSE_OF"
      ]
     },
     "execution_count": 12,
     "metadata": {},
     "output_type": "execute_result"
    }
   ],
   "source": [
    "relationships_df = pd.DataFrame(map(BaseModel.model_dump, village.relationships))\n",
    "relationships_df"
   ]
  },
  {
   "cell_type": "markdown",
   "id": "5e25db54-61e3-4153-896a-75555d6e17b9",
   "metadata": {},
   "source": [
    "## Graphviz"
   ]
  },
  {
   "cell_type": "code",
   "execution_count": 13,
   "id": "24431bdc-d10c-4b3e-957b-061781591ac3",
   "metadata": {},
   "outputs": [
    {
     "data": {
      "image/svg+xml": [
       "<?xml version=\"1.0\" encoding=\"UTF-8\" standalone=\"no\"?>\n",
       "<!DOCTYPE svg PUBLIC \"-//W3C//DTD SVG 1.1//EN\"\n",
       " \"http://www.w3.org/Graphics/SVG/1.1/DTD/svg11.dtd\">\n",
       "<!-- Generated by graphviz version 8.1.0 (20230707.0739)\n",
       " -->\n",
       "<!-- Pages: 1 -->\n",
       "<svg width=\"963pt\" height=\"188pt\"\n",
       " viewBox=\"0.00 0.00 962.92 188.00\" xmlns=\"http://www.w3.org/2000/svg\" xmlns:xlink=\"http://www.w3.org/1999/xlink\">\n",
       "<g id=\"graph0\" class=\"graph\" transform=\"scale(1 1) rotate(0) translate(4 184)\">\n",
       "<polygon fill=\"white\" stroke=\"none\" points=\"-4,4 -4,-184 958.92,-184 958.92,4 -4,4\"/>\n",
       "<!-- Erik -->\n",
       "<g id=\"node1\" class=\"node\">\n",
       "<title>Erik</title>\n",
       "<ellipse fill=\"none\" stroke=\"black\" cx=\"173.57\" cy=\"-162\" rx=\"89.74\" ry=\"18\"/>\n",
       "<text text-anchor=\"middle\" x=\"173.57\" y=\"-156.95\" font-family=\"Times,serif\" font-size=\"14.00\">Erik(45): Blacksmith</text>\n",
       "</g>\n",
       "<!-- Astrid -->\n",
       "<g id=\"node2\" class=\"node\">\n",
       "<title>Astrid</title>\n",
       "<ellipse fill=\"none\" stroke=\"black\" cx=\"82.57\" cy=\"-90\" rx=\"82.57\" ry=\"18\"/>\n",
       "<text text-anchor=\"middle\" x=\"82.57\" y=\"-84.95\" font-family=\"Times,serif\" font-size=\"14.00\">Astrid(40): Weaver</text>\n",
       "</g>\n",
       "<!-- Erik&#45;&gt;Astrid -->\n",
       "<g id=\"edge1\" class=\"edge\">\n",
       "<title>Erik&#45;&gt;Astrid</title>\n",
       "<path fill=\"none\" stroke=\"black\" d=\"M152.01,-144.41C137.6,-133.33 118.73,-118.82 104.3,-107.71\"/>\n",
       "</g>\n",
       "<!-- Bjorn -->\n",
       "<g id=\"node3\" class=\"node\">\n",
       "<title>Bjorn</title>\n",
       "<ellipse fill=\"none\" stroke=\"black\" cx=\"264.57\" cy=\"-90\" rx=\"81.04\" ry=\"18\"/>\n",
       "<text text-anchor=\"middle\" x=\"264.57\" y=\"-84.95\" font-family=\"Times,serif\" font-size=\"14.00\">Bjorn(20): Warrior</text>\n",
       "</g>\n",
       "<!-- Erik&#45;&gt;Bjorn -->\n",
       "<g id=\"edge2\" class=\"edge\">\n",
       "<title>Erik&#45;&gt;Bjorn</title>\n",
       "<path fill=\"none\" stroke=\"black\" d=\"M195.14,-144.41C206.84,-135.41 221.49,-124.14 234.32,-114.27\"/>\n",
       "<polygon fill=\"black\" stroke=\"black\" points=\"236.05,-116.58 241.85,-107.71 231.79,-111.04 236.05,-116.58\"/>\n",
       "</g>\n",
       "<!-- Ingrid -->\n",
       "<g id=\"node4\" class=\"node\">\n",
       "<title>Ingrid</title>\n",
       "<ellipse fill=\"none\" stroke=\"black\" cx=\"82.57\" cy=\"-18\" rx=\"81.04\" ry=\"18\"/>\n",
       "<text text-anchor=\"middle\" x=\"82.57\" y=\"-12.95\" font-family=\"Times,serif\" font-size=\"14.00\">Ingrid(18): Farmer</text>\n",
       "</g>\n",
       "<!-- Astrid&#45;&gt;Ingrid -->\n",
       "<g id=\"edge3\" class=\"edge\">\n",
       "<title>Astrid&#45;&gt;Ingrid</title>\n",
       "<path fill=\"none\" stroke=\"black\" d=\"M82.57,-71.7C82.57,-64.24 82.57,-55.32 82.57,-46.97\"/>\n",
       "<polygon fill=\"black\" stroke=\"black\" points=\"86.07,-47.1 82.57,-37.1 79.07,-47.1 86.07,-47.1\"/>\n",
       "</g>\n",
       "<!-- Ragnar -->\n",
       "<g id=\"node5\" class=\"node\">\n",
       "<title>Ragnar</title>\n",
       "<ellipse fill=\"none\" stroke=\"black\" cx=\"568.57\" cy=\"-162\" rx=\"92.3\" ry=\"18\"/>\n",
       "<text text-anchor=\"middle\" x=\"568.57\" y=\"-156.95\" font-family=\"Times,serif\" font-size=\"14.00\">Ragnar(50): Chieftain</text>\n",
       "</g>\n",
       "<!-- Lagertha -->\n",
       "<g id=\"node6\" class=\"node\">\n",
       "<title>Lagertha</title>\n",
       "<ellipse fill=\"none\" stroke=\"black\" cx=\"481.57\" cy=\"-90\" rx=\"118.4\" ry=\"18\"/>\n",
       "<text text-anchor=\"middle\" x=\"481.57\" y=\"-84.95\" font-family=\"Times,serif\" font-size=\"14.00\">Lagertha(48): Shield&#45;maiden</text>\n",
       "</g>\n",
       "<!-- Ragnar&#45;&gt;Lagertha -->\n",
       "<g id=\"edge4\" class=\"edge\">\n",
       "<title>Ragnar&#45;&gt;Lagertha</title>\n",
       "<path fill=\"none\" stroke=\"black\" d=\"M547.51,-144.05C533.93,-133.13 516.34,-118.97 502.74,-108.03\"/>\n",
       "</g>\n",
       "<!-- Ivar -->\n",
       "<g id=\"node7\" class=\"node\">\n",
       "<title>Ivar</title>\n",
       "<ellipse fill=\"none\" stroke=\"black\" cx=\"692.57\" cy=\"-90\" rx=\"74.89\" ry=\"18\"/>\n",
       "<text text-anchor=\"middle\" x=\"692.57\" y=\"-84.95\" font-family=\"Times,serif\" font-size=\"14.00\">Ivar(22): Warrior</text>\n",
       "</g>\n",
       "<!-- Ragnar&#45;&gt;Ivar -->\n",
       "<g id=\"edge5\" class=\"edge\">\n",
       "<title>Ragnar&#45;&gt;Ivar</title>\n",
       "<path fill=\"none\" stroke=\"black\" d=\"M597.64,-144.59C614.63,-135 636.27,-122.78 654.6,-112.44\"/>\n",
       "<polygon fill=\"black\" stroke=\"black\" points=\"656.12,-115.03 663.11,-107.07 652.68,-108.94 656.12,-115.03\"/>\n",
       "</g>\n",
       "<!-- Helga -->\n",
       "<g id=\"node8\" class=\"node\">\n",
       "<title>Helga</title>\n",
       "<ellipse fill=\"none\" stroke=\"black\" cx=\"481.57\" cy=\"-18\" rx=\"87.18\" ry=\"18\"/>\n",
       "<text text-anchor=\"middle\" x=\"481.57\" y=\"-12.95\" font-family=\"Times,serif\" font-size=\"14.00\">Helga(21): Herbalist</text>\n",
       "</g>\n",
       "<!-- Lagertha&#45;&gt;Helga -->\n",
       "<g id=\"edge6\" class=\"edge\">\n",
       "<title>Lagertha&#45;&gt;Helga</title>\n",
       "<path fill=\"none\" stroke=\"black\" d=\"M481.57,-71.7C481.57,-64.24 481.57,-55.32 481.57,-46.97\"/>\n",
       "<polygon fill=\"black\" stroke=\"black\" points=\"485.07,-47.1 481.57,-37.1 478.07,-47.1 485.07,-47.1\"/>\n",
       "</g>\n",
       "<!-- Floki -->\n",
       "<g id=\"node9\" class=\"node\">\n",
       "<title>Floki</title>\n",
       "<ellipse fill=\"none\" stroke=\"black\" cx=\"860.57\" cy=\"-162\" rx=\"94.34\" ry=\"18\"/>\n",
       "<text text-anchor=\"middle\" x=\"860.57\" y=\"-156.95\" font-family=\"Times,serif\" font-size=\"14.00\">Floki(35): Boatbuilder</text>\n",
       "</g>\n",
       "<!-- Siggy -->\n",
       "<g id=\"node10\" class=\"node\">\n",
       "<title>Siggy</title>\n",
       "<ellipse fill=\"none\" stroke=\"black\" cx=\"860.57\" cy=\"-90\" rx=\"74.89\" ry=\"18\"/>\n",
       "<text text-anchor=\"middle\" x=\"860.57\" y=\"-84.95\" font-family=\"Times,serif\" font-size=\"14.00\">Siggy(30): Baker</text>\n",
       "</g>\n",
       "<!-- Floki&#45;&gt;Siggy -->\n",
       "<g id=\"edge7\" class=\"edge\">\n",
       "<title>Floki&#45;&gt;Siggy</title>\n",
       "<path fill=\"none\" stroke=\"black\" d=\"M860.57,-143.7C860.57,-132.85 860.57,-118.92 860.57,-108.1\"/>\n",
       "</g>\n",
       "</g>\n",
       "</svg>\n"
      ],
      "text/plain": [
       "<graphviz.graphs.Digraph at 0x14b736d10>"
      ]
     },
     "execution_count": 13,
     "metadata": {},
     "output_type": "execute_result"
    }
   ],
   "source": [
    "g = gv.Digraph()\n",
    "g.graph_attr[\"rankdir\"] = \"TB\"\n",
    "\n",
    "for v in village.villagers:\n",
    "    g.node(v.name, label=f\"{v.name}({v.age}): {v.occupation}\")\n",
    "\n",
    "for r in village.relationships:\n",
    "    arrowhead = \"normal\" if r.type == RelationshipType.PARENT_OF else \"none\"\n",
    "    g.edge(head_name=r.object_name, tail_name=r.subject_name, arrowhead=arrowhead)\n",
    "\n",
    "g"
   ]
  },
  {
   "cell_type": "markdown",
   "id": "2c71f6a7-e9f1-4e36-8b4c-ec1031a87b60",
   "metadata": {},
   "source": [
    "## Combining Pandas and Graphviz"
   ]
  },
  {
   "cell_type": "code",
   "execution_count": 14,
   "id": "748eab34-e076-4363-9d51-bb42ceb1226e",
   "metadata": {},
   "outputs": [],
   "source": [
    "import json\n",
    "from IPython.display import JSON\n",
    "\n",
    "ARROW_STYLE_LOOKUP = {\n",
    "    RelationshipType.SPOUSE_OF: \"none\",\n",
    "}\n",
    "\n",
    "STYLE_LOOKUP = {\n",
    "    RelationshipType.SPOUSE_OF: \"bold\",\n",
    "}\n",
    "\n",
    "\n",
    "def display_village(village: Village):\n",
    "    # top level description of village\n",
    "    village_info = json.loads(village.model_dump_json())\n",
    "\n",
    "    # the table of villagers\n",
    "    df = pd.DataFrame(map(BaseModel.model_dump, village.villagers)).set_index(\"name\")\n",
    "\n",
    "    g = gv.Digraph()\n",
    "    g.graph_attr[\"rankdir\"] = \"TB\"\n",
    "\n",
    "    # the family trees of villagers\n",
    "    for v in village.villagers:\n",
    "        g.node(v.name, label=f\"{v.name}({v.age}): {v.occupation}\")\n",
    "\n",
    "    for r in village.relationships:\n",
    "        g.edge(\n",
    "            head_name=r.object_name,\n",
    "            tail_name=r.subject_name,\n",
    "            arrowhead=ARROW_STYLE_LOOKUP.get(r.type, \"normal\"),\n",
    "            style=STYLE_LOOKUP.get(r.type, \"solid\"),\n",
    "        )\n",
    "\n",
    "    display(JSON(village_info), df, g)"
   ]
  },
  {
   "cell_type": "code",
   "execution_count": 16,
   "id": "c82600ee-b34c-4141-bd3a-859ea9fbebb7",
   "metadata": {},
   "outputs": [
    {
     "data": {
      "application/json": {
       "county": "Yorkshire",
       "description": "A small Viking village in Jórvík surrounded by beautiful landscapes and rivers.",
       "name": "Jórvík Village",
       "relationships": [
        {
         "object_name": "Astrid",
         "subject_name": "Erik",
         "type": "spouse of"
        },
        {
         "object_name": "Bjorn",
         "subject_name": "Erik",
         "type": "parent of"
        },
        {
         "object_name": "Ingrid",
         "subject_name": "Astrid",
         "type": "parent of"
        },
        {
         "object_name": "Lagertha",
         "subject_name": "Ragnar",
         "type": "spouse of"
        },
        {
         "object_name": "Ivar",
         "subject_name": "Ragnar",
         "type": "parent of"
        },
        {
         "object_name": "Helga",
         "subject_name": "Lagertha",
         "type": "parent of"
        },
        {
         "object_name": "Siggy",
         "subject_name": "Floki",
         "type": "spouse of"
        }
       ],
       "villagers": [
        {
         "age": 45,
         "ethnicity": "Norse",
         "name": "Erik",
         "occupation": "Blacksmith",
         "sex": "Male"
        },
        {
         "age": 40,
         "ethnicity": "Norse",
         "name": "Astrid",
         "occupation": "Weaver",
         "sex": "Female"
        },
        {
         "age": 20,
         "ethnicity": "Norse",
         "name": "Bjorn",
         "occupation": "Warrior",
         "sex": "Male"
        },
        {
         "age": 18,
         "ethnicity": "Norse",
         "name": "Ingrid",
         "occupation": "Farmer",
         "sex": "Female"
        },
        {
         "age": 50,
         "ethnicity": "Norse",
         "name": "Ragnar",
         "occupation": "Chieftain",
         "sex": "Male"
        },
        {
         "age": 48,
         "ethnicity": "Norse",
         "name": "Lagertha",
         "occupation": "Shield-maiden",
         "sex": "Female"
        },
        {
         "age": 22,
         "ethnicity": "Norse",
         "name": "Ivar",
         "occupation": "Warrior",
         "sex": "Male"
        },
        {
         "age": 21,
         "ethnicity": "Norse",
         "name": "Helga",
         "occupation": "Herbalist",
         "sex": "Female"
        },
        {
         "age": 35,
         "ethnicity": "Norse",
         "name": "Floki",
         "occupation": "Boatbuilder",
         "sex": "Male"
        },
        {
         "age": 30,
         "ethnicity": "Norse",
         "name": "Siggy",
         "occupation": "Baker",
         "sex": "Female"
        }
       ],
       "year": 900
      },
      "text/plain": [
       "<IPython.core.display.JSON object>"
      ]
     },
     "metadata": {
      "application/json": {
       "expanded": false,
       "root": "root"
      }
     },
     "output_type": "display_data"
    },
    {
     "data": {
      "text/html": [
       "<div>\n",
       "<style scoped>\n",
       "    .dataframe tbody tr th:only-of-type {\n",
       "        vertical-align: middle;\n",
       "    }\n",
       "\n",
       "    .dataframe tbody tr th {\n",
       "        vertical-align: top;\n",
       "    }\n",
       "\n",
       "    .dataframe thead th {\n",
       "        text-align: right;\n",
       "    }\n",
       "</style>\n",
       "<table border=\"1\" class=\"dataframe\">\n",
       "  <thead>\n",
       "    <tr style=\"text-align: right;\">\n",
       "      <th></th>\n",
       "      <th>age</th>\n",
       "      <th>sex</th>\n",
       "      <th>occupation</th>\n",
       "      <th>ethnicity</th>\n",
       "    </tr>\n",
       "    <tr>\n",
       "      <th>name</th>\n",
       "      <th></th>\n",
       "      <th></th>\n",
       "      <th></th>\n",
       "      <th></th>\n",
       "    </tr>\n",
       "  </thead>\n",
       "  <tbody>\n",
       "    <tr>\n",
       "      <th>Erik</th>\n",
       "      <td>45</td>\n",
       "      <td>Male</td>\n",
       "      <td>Blacksmith</td>\n",
       "      <td>Norse</td>\n",
       "    </tr>\n",
       "    <tr>\n",
       "      <th>Astrid</th>\n",
       "      <td>40</td>\n",
       "      <td>Female</td>\n",
       "      <td>Weaver</td>\n",
       "      <td>Norse</td>\n",
       "    </tr>\n",
       "    <tr>\n",
       "      <th>Bjorn</th>\n",
       "      <td>20</td>\n",
       "      <td>Male</td>\n",
       "      <td>Warrior</td>\n",
       "      <td>Norse</td>\n",
       "    </tr>\n",
       "    <tr>\n",
       "      <th>Ingrid</th>\n",
       "      <td>18</td>\n",
       "      <td>Female</td>\n",
       "      <td>Farmer</td>\n",
       "      <td>Norse</td>\n",
       "    </tr>\n",
       "    <tr>\n",
       "      <th>Ragnar</th>\n",
       "      <td>50</td>\n",
       "      <td>Male</td>\n",
       "      <td>Chieftain</td>\n",
       "      <td>Norse</td>\n",
       "    </tr>\n",
       "    <tr>\n",
       "      <th>Lagertha</th>\n",
       "      <td>48</td>\n",
       "      <td>Female</td>\n",
       "      <td>Shield-maiden</td>\n",
       "      <td>Norse</td>\n",
       "    </tr>\n",
       "    <tr>\n",
       "      <th>Ivar</th>\n",
       "      <td>22</td>\n",
       "      <td>Male</td>\n",
       "      <td>Warrior</td>\n",
       "      <td>Norse</td>\n",
       "    </tr>\n",
       "    <tr>\n",
       "      <th>Helga</th>\n",
       "      <td>21</td>\n",
       "      <td>Female</td>\n",
       "      <td>Herbalist</td>\n",
       "      <td>Norse</td>\n",
       "    </tr>\n",
       "    <tr>\n",
       "      <th>Floki</th>\n",
       "      <td>35</td>\n",
       "      <td>Male</td>\n",
       "      <td>Boatbuilder</td>\n",
       "      <td>Norse</td>\n",
       "    </tr>\n",
       "    <tr>\n",
       "      <th>Siggy</th>\n",
       "      <td>30</td>\n",
       "      <td>Female</td>\n",
       "      <td>Baker</td>\n",
       "      <td>Norse</td>\n",
       "    </tr>\n",
       "  </tbody>\n",
       "</table>\n",
       "</div>"
      ],
      "text/plain": [
       "          age     sex     occupation ethnicity\n",
       "name                                          \n",
       "Erik       45    Male     Blacksmith     Norse\n",
       "Astrid     40  Female         Weaver     Norse\n",
       "Bjorn      20    Male        Warrior     Norse\n",
       "Ingrid     18  Female         Farmer     Norse\n",
       "Ragnar     50    Male      Chieftain     Norse\n",
       "Lagertha   48  Female  Shield-maiden     Norse\n",
       "Ivar       22    Male        Warrior     Norse\n",
       "Helga      21  Female      Herbalist     Norse\n",
       "Floki      35    Male    Boatbuilder     Norse\n",
       "Siggy      30  Female          Baker     Norse"
      ]
     },
     "metadata": {},
     "output_type": "display_data"
    },
    {
     "data": {
      "image/svg+xml": [
       "<?xml version=\"1.0\" encoding=\"UTF-8\" standalone=\"no\"?>\n",
       "<!DOCTYPE svg PUBLIC \"-//W3C//DTD SVG 1.1//EN\"\n",
       " \"http://www.w3.org/Graphics/SVG/1.1/DTD/svg11.dtd\">\n",
       "<!-- Generated by graphviz version 8.1.0 (20230707.0739)\n",
       " -->\n",
       "<!-- Pages: 1 -->\n",
       "<svg width=\"963pt\" height=\"188pt\"\n",
       " viewBox=\"0.00 0.00 962.92 188.00\" xmlns=\"http://www.w3.org/2000/svg\" xmlns:xlink=\"http://www.w3.org/1999/xlink\">\n",
       "<g id=\"graph0\" class=\"graph\" transform=\"scale(1 1) rotate(0) translate(4 184)\">\n",
       "<polygon fill=\"white\" stroke=\"none\" points=\"-4,4 -4,-184 958.92,-184 958.92,4 -4,4\"/>\n",
       "<!-- Erik -->\n",
       "<g id=\"node1\" class=\"node\">\n",
       "<title>Erik</title>\n",
       "<ellipse fill=\"none\" stroke=\"black\" cx=\"173.57\" cy=\"-162\" rx=\"89.74\" ry=\"18\"/>\n",
       "<text text-anchor=\"middle\" x=\"173.57\" y=\"-156.95\" font-family=\"Times,serif\" font-size=\"14.00\">Erik(45): Blacksmith</text>\n",
       "</g>\n",
       "<!-- Astrid -->\n",
       "<g id=\"node2\" class=\"node\">\n",
       "<title>Astrid</title>\n",
       "<ellipse fill=\"none\" stroke=\"black\" cx=\"82.57\" cy=\"-90\" rx=\"82.57\" ry=\"18\"/>\n",
       "<text text-anchor=\"middle\" x=\"82.57\" y=\"-84.95\" font-family=\"Times,serif\" font-size=\"14.00\">Astrid(40): Weaver</text>\n",
       "</g>\n",
       "<!-- Erik&#45;&gt;Astrid -->\n",
       "<g id=\"edge1\" class=\"edge\">\n",
       "<title>Erik&#45;&gt;Astrid</title>\n",
       "<path fill=\"none\" stroke=\"black\" stroke-width=\"2\" d=\"M152.01,-144.41C137.6,-133.33 118.73,-118.82 104.3,-107.71\"/>\n",
       "</g>\n",
       "<!-- Bjorn -->\n",
       "<g id=\"node3\" class=\"node\">\n",
       "<title>Bjorn</title>\n",
       "<ellipse fill=\"none\" stroke=\"black\" cx=\"264.57\" cy=\"-90\" rx=\"81.04\" ry=\"18\"/>\n",
       "<text text-anchor=\"middle\" x=\"264.57\" y=\"-84.95\" font-family=\"Times,serif\" font-size=\"14.00\">Bjorn(20): Warrior</text>\n",
       "</g>\n",
       "<!-- Erik&#45;&gt;Bjorn -->\n",
       "<g id=\"edge2\" class=\"edge\">\n",
       "<title>Erik&#45;&gt;Bjorn</title>\n",
       "<path fill=\"none\" stroke=\"black\" d=\"M195.14,-144.41C206.84,-135.41 221.49,-124.14 234.32,-114.27\"/>\n",
       "<polygon fill=\"black\" stroke=\"black\" points=\"236.05,-116.58 241.85,-107.71 231.79,-111.04 236.05,-116.58\"/>\n",
       "</g>\n",
       "<!-- Ingrid -->\n",
       "<g id=\"node4\" class=\"node\">\n",
       "<title>Ingrid</title>\n",
       "<ellipse fill=\"none\" stroke=\"black\" cx=\"82.57\" cy=\"-18\" rx=\"81.04\" ry=\"18\"/>\n",
       "<text text-anchor=\"middle\" x=\"82.57\" y=\"-12.95\" font-family=\"Times,serif\" font-size=\"14.00\">Ingrid(18): Farmer</text>\n",
       "</g>\n",
       "<!-- Astrid&#45;&gt;Ingrid -->\n",
       "<g id=\"edge3\" class=\"edge\">\n",
       "<title>Astrid&#45;&gt;Ingrid</title>\n",
       "<path fill=\"none\" stroke=\"black\" d=\"M82.57,-71.7C82.57,-64.24 82.57,-55.32 82.57,-46.97\"/>\n",
       "<polygon fill=\"black\" stroke=\"black\" points=\"86.07,-47.1 82.57,-37.1 79.07,-47.1 86.07,-47.1\"/>\n",
       "</g>\n",
       "<!-- Ragnar -->\n",
       "<g id=\"node5\" class=\"node\">\n",
       "<title>Ragnar</title>\n",
       "<ellipse fill=\"none\" stroke=\"black\" cx=\"568.57\" cy=\"-162\" rx=\"92.3\" ry=\"18\"/>\n",
       "<text text-anchor=\"middle\" x=\"568.57\" y=\"-156.95\" font-family=\"Times,serif\" font-size=\"14.00\">Ragnar(50): Chieftain</text>\n",
       "</g>\n",
       "<!-- Lagertha -->\n",
       "<g id=\"node6\" class=\"node\">\n",
       "<title>Lagertha</title>\n",
       "<ellipse fill=\"none\" stroke=\"black\" cx=\"481.57\" cy=\"-90\" rx=\"118.4\" ry=\"18\"/>\n",
       "<text text-anchor=\"middle\" x=\"481.57\" y=\"-84.95\" font-family=\"Times,serif\" font-size=\"14.00\">Lagertha(48): Shield&#45;maiden</text>\n",
       "</g>\n",
       "<!-- Ragnar&#45;&gt;Lagertha -->\n",
       "<g id=\"edge4\" class=\"edge\">\n",
       "<title>Ragnar&#45;&gt;Lagertha</title>\n",
       "<path fill=\"none\" stroke=\"black\" stroke-width=\"2\" d=\"M547.51,-144.05C533.93,-133.13 516.34,-118.97 502.74,-108.03\"/>\n",
       "</g>\n",
       "<!-- Ivar -->\n",
       "<g id=\"node7\" class=\"node\">\n",
       "<title>Ivar</title>\n",
       "<ellipse fill=\"none\" stroke=\"black\" cx=\"692.57\" cy=\"-90\" rx=\"74.89\" ry=\"18\"/>\n",
       "<text text-anchor=\"middle\" x=\"692.57\" y=\"-84.95\" font-family=\"Times,serif\" font-size=\"14.00\">Ivar(22): Warrior</text>\n",
       "</g>\n",
       "<!-- Ragnar&#45;&gt;Ivar -->\n",
       "<g id=\"edge5\" class=\"edge\">\n",
       "<title>Ragnar&#45;&gt;Ivar</title>\n",
       "<path fill=\"none\" stroke=\"black\" d=\"M597.64,-144.59C614.63,-135 636.27,-122.78 654.6,-112.44\"/>\n",
       "<polygon fill=\"black\" stroke=\"black\" points=\"656.12,-115.03 663.11,-107.07 652.68,-108.94 656.12,-115.03\"/>\n",
       "</g>\n",
       "<!-- Helga -->\n",
       "<g id=\"node8\" class=\"node\">\n",
       "<title>Helga</title>\n",
       "<ellipse fill=\"none\" stroke=\"black\" cx=\"481.57\" cy=\"-18\" rx=\"87.18\" ry=\"18\"/>\n",
       "<text text-anchor=\"middle\" x=\"481.57\" y=\"-12.95\" font-family=\"Times,serif\" font-size=\"14.00\">Helga(21): Herbalist</text>\n",
       "</g>\n",
       "<!-- Lagertha&#45;&gt;Helga -->\n",
       "<g id=\"edge6\" class=\"edge\">\n",
       "<title>Lagertha&#45;&gt;Helga</title>\n",
       "<path fill=\"none\" stroke=\"black\" d=\"M481.57,-71.7C481.57,-64.24 481.57,-55.32 481.57,-46.97\"/>\n",
       "<polygon fill=\"black\" stroke=\"black\" points=\"485.07,-47.1 481.57,-37.1 478.07,-47.1 485.07,-47.1\"/>\n",
       "</g>\n",
       "<!-- Floki -->\n",
       "<g id=\"node9\" class=\"node\">\n",
       "<title>Floki</title>\n",
       "<ellipse fill=\"none\" stroke=\"black\" cx=\"860.57\" cy=\"-162\" rx=\"94.34\" ry=\"18\"/>\n",
       "<text text-anchor=\"middle\" x=\"860.57\" y=\"-156.95\" font-family=\"Times,serif\" font-size=\"14.00\">Floki(35): Boatbuilder</text>\n",
       "</g>\n",
       "<!-- Siggy -->\n",
       "<g id=\"node10\" class=\"node\">\n",
       "<title>Siggy</title>\n",
       "<ellipse fill=\"none\" stroke=\"black\" cx=\"860.57\" cy=\"-90\" rx=\"74.89\" ry=\"18\"/>\n",
       "<text text-anchor=\"middle\" x=\"860.57\" y=\"-84.95\" font-family=\"Times,serif\" font-size=\"14.00\">Siggy(30): Baker</text>\n",
       "</g>\n",
       "<!-- Floki&#45;&gt;Siggy -->\n",
       "<g id=\"edge7\" class=\"edge\">\n",
       "<title>Floki&#45;&gt;Siggy</title>\n",
       "<path fill=\"none\" stroke=\"black\" stroke-width=\"2\" d=\"M860.57,-143.7C860.57,-132.85 860.57,-118.92 860.57,-108.1\"/>\n",
       "</g>\n",
       "</g>\n",
       "</svg>\n"
      ],
      "text/plain": [
       "<graphviz.graphs.Digraph at 0x14b734070>"
      ]
     },
     "metadata": {},
     "output_type": "display_data"
    }
   ],
   "source": [
    "display_village(village=village)"
   ]
  },
  {
   "cell_type": "markdown",
   "id": "9871f14f-ccc3-43d0-a8a7-713db2467d8e",
   "metadata": {},
   "source": [
    "## Chains\n",
    "\n",
    "These steps can be combined in single chain object."
   ]
  },
  {
   "cell_type": "code",
   "execution_count": 37,
   "id": "16123115-13f7-4f6b-96b9-d0ba10f1238c",
   "metadata": {},
   "outputs": [
    {
     "data": {
      "text/html": [
       "<iframe src=\"https://python.langchain.com/docs/modules/chains/\" width=\"1200\" height=\"400\"></iframe>\n"
      ],
      "text/plain": [
       "<IPython.core.display.HTML object>"
      ]
     },
     "metadata": {},
     "output_type": "display_data"
    }
   ],
   "source": [
    "%%html\n",
    "<iframe src=\"https://python.langchain.com/docs/modules/chains/\" width=\"1200\" height=\"400\"></iframe>\n"
   ]
  },
  {
   "cell_type": "code",
   "execution_count": 17,
   "id": "71d864d3-e5f7-420a-8b48-85ef09fb034d",
   "metadata": {},
   "outputs": [],
   "source": [
    "prompt = PromptTemplate(\n",
    "    template=PROMPT_FORMAT_FOR_PARSING,\n",
    "    input_variables=[\"location\", \"year\", \"population\"],\n",
    "    partial_variables={\n",
    "        \"format_instructions\": pydantic_parser.get_format_instructions()\n",
    "    },\n",
    ")\n",
    "chain = LLMChain(llm=llm, prompt=prompt, output_parser=pydantic_parser, verbose=True)"
   ]
  },
  {
   "cell_type": "code",
   "execution_count": 18,
   "id": "7e77a74a-fed6-457b-94ea-7baa7b2e3452",
   "metadata": {
    "scrolled": true
   },
   "outputs": [
    {
     "name": "stdout",
     "output_type": "stream",
     "text": [
      "\n",
      "\n",
      "\u001b[1m> Entering new LLMChain chain...\u001b[0m\n",
      "Prompt after formatting:\n",
      "\u001b[32;1m\u001b[1;3m\n",
      "Create a village in Hertfordshire, England in the year 1086. Describe 30 villagers along with their family relations to one another.\n",
      "\n",
      "The output should be formatted as a JSON instance that conforms to the JSON schema below.\n",
      "\n",
      "As an example, for the schema {\"properties\": {\"foo\": {\"title\": \"Foo\", \"description\": \"a list of strings\", \"type\": \"array\", \"items\": {\"type\": \"string\"}}}, \"required\": [\"foo\"]}\n",
      "the object {\"foo\": [\"bar\", \"baz\"]} is a well-formatted instance of the schema. The object {\"properties\": {\"foo\": [\"bar\", \"baz\"]}} is not well-formatted.\n",
      "\n",
      "Here is the output schema:\n",
      "```\n",
      "{\"$defs\": {\"Relationship\": {\"properties\": {\"subject_name\": {\"default\": \"the subject of the relationship (e.g. Jane, subject, is a sibling of Sam, object.)\", \"title\": \"Subject Name\", \"type\": \"string\"}, \"object_name\": {\"default\": \"the object of the relationship (e.g. Jane, subject, is a sibling of Sam, object.)\", \"title\": \"Object Name\", \"type\": \"string\"}, \"type\": {\"$ref\": \"#/$defs/RelationshipType\"}}, \"required\": [\"type\"], \"title\": \"Relationship\", \"type\": \"object\"}, \"RelationshipType\": {\"enum\": [\"spouse of\", \"parent of\"], \"title\": \"RelationshipType\", \"type\": \"string\"}, \"Villager\": {\"properties\": {\"name\": {\"title\": \"Name\", \"type\": \"string\"}, \"age\": {\"title\": \"Age\", \"type\": \"integer\"}, \"sex\": {\"title\": \"Sex\", \"type\": \"string\"}, \"occupation\": {\"title\": \"Occupation\", \"type\": \"string\"}, \"ethnicity\": {\"title\": \"Ethnicity\", \"type\": \"string\"}}, \"required\": [\"name\", \"age\", \"sex\", \"occupation\", \"ethnicity\"], \"title\": \"Villager\", \"type\": \"object\"}}, \"properties\": {\"name\": {\"title\": \"Name\", \"type\": \"string\"}, \"description\": {\"title\": \"Description\", \"type\": \"string\"}, \"county\": {\"title\": \"County\", \"type\": \"string\"}, \"year\": {\"title\": \"Year\", \"type\": \"integer\"}, \"villagers\": {\"items\": {\"$ref\": \"#/$defs/Villager\"}, \"title\": \"Villagers\", \"type\": \"array\"}, \"relationships\": {\"items\": {\"$ref\": \"#/$defs/Relationship\"}, \"title\": \"Relationships\", \"type\": \"array\"}}, \"required\": [\"name\", \"description\", \"county\", \"year\", \"villagers\", \"relationships\"]}\n",
      "```\n",
      "The output should not deviate from this format in any way.\u001b[0m\n",
      "\n",
      "\u001b[1m> Finished chain.\u001b[0m\n"
     ]
    },
    {
     "data": {
      "text/plain": [
       "Village(name='Ashridge', description='A small farming village in Hertfordshire, England', county='Hertfordshire', year=1086, villagers=[Villager(name='Albert', age=50, sex='male', occupation='farmer', ethnicity='english'), Villager(name='Bertha', age=45, sex='female', occupation=\"farmer's wife\", ethnicity='english'), Villager(name='Cuthbert', age=22, sex='male', occupation='blacksmith', ethnicity='english'), Villager(name='Dorothy', age=20, sex='female', occupation='weaver', ethnicity='english'), Villager(name='Edward', age=18, sex='male', occupation=\"farmer's son\", ethnicity='english'), Villager(name='Felicity', age=16, sex='female', occupation=\"farmer's daughter\", ethnicity='english'), Villager(name='Geoffrey', age=35, sex='male', occupation='carpenter', ethnicity='english'), Villager(name='Helen', age=33, sex='female', occupation=\"carpenter's wife\", ethnicity='english'), Villager(name='Isaac', age=12, sex='male', occupation=\"carpenter's son\", ethnicity='english'), Villager(name='Jane', age=10, sex='female', occupation=\"carpenter's daughter\", ethnicity='english'), Villager(name='Kendrick', age=40, sex='male', occupation='miller', ethnicity='english'), Villager(name='Lydia', age=38, sex='female', occupation=\"miller's wife\", ethnicity='english'), Villager(name='Milton', age=15, sex='male', occupation=\"miller's son\", ethnicity='english'), Villager(name='Nancy', age=13, sex='female', occupation=\"miller's daughter\", ethnicity='english'), Villager(name='Oswald', age=28, sex='male', occupation='baker', ethnicity='english'), Villager(name='Prudence', age=26, sex='female', occupation=\"baker's wife\", ethnicity='english'), Villager(name='Quentin', age=5, sex='male', occupation=\"baker's son\", ethnicity='english'), Villager(name='Ruth', age=3, sex='female', occupation=\"baker's daughter\", ethnicity='english'), Villager(name='Samuel', age=55, sex='male', occupation='priest', ethnicity='english'), Villager(name='Thomas', age=30, sex='male', occupation='shepherd', ethnicity='english'), Villager(name='Ursula', age=28, sex='female', occupation=\"shepherd's wife\", ethnicity='english'), Villager(name='Vincent', age=7, sex='male', occupation=\"shepherd's son\", ethnicity='english'), Villager(name='Winifred', age=5, sex='female', occupation=\"shepherd's daughter\", ethnicity='english'), Villager(name='Xavier', age=45, sex='male', occupation='fisherman', ethnicity='english'), Villager(name='Yvonne', age=43, sex='female', occupation=\"fisherman's wife\", ethnicity='english'), Villager(name='Zachary', age=20, sex='male', occupation=\"fisherman's son\", ethnicity='english'), Villager(name='Agnes', age=18, sex='female', occupation=\"fisherman's daughter\", ethnicity='english'), Villager(name='Benedict', age=60, sex='male', occupation='hermit', ethnicity='english'), Villager(name='Cecilia', age=58, sex='female', occupation=\"hermit's wife\", ethnicity='english'), Villager(name='Dunstan', age=25, sex='male', occupation=\"hermit's son\", ethnicity='english')], relationships=[Relationship(subject_name='Albert', object_name='Bertha', type=<RelationshipType.SPOUSE_OF: 'spouse of'>), Relationship(subject_name='Albert', object_name='Edward', type=<RelationshipType.PARENT_OF: 'parent of'>), Relationship(subject_name='Albert', object_name='Felicity', type=<RelationshipType.PARENT_OF: 'parent of'>), Relationship(subject_name='Bertha', object_name='Edward', type=<RelationshipType.PARENT_OF: 'parent of'>), Relationship(subject_name='Bertha', object_name='Felicity', type=<RelationshipType.PARENT_OF: 'parent of'>), Relationship(subject_name='Geoffrey', object_name='Helen', type=<RelationshipType.SPOUSE_OF: 'spouse of'>), Relationship(subject_name='Geoffrey', object_name='Isaac', type=<RelationshipType.PARENT_OF: 'parent of'>), Relationship(subject_name='Geoffrey', object_name='Jane', type=<RelationshipType.PARENT_OF: 'parent of'>), Relationship(subject_name='Helen', object_name='Isaac', type=<RelationshipType.PARENT_OF: 'parent of'>), Relationship(subject_name='Helen', object_name='Jane', type=<RelationshipType.PARENT_OF: 'parent of'>), Relationship(subject_name='Kendrick', object_name='Lydia', type=<RelationshipType.SPOUSE_OF: 'spouse of'>), Relationship(subject_name='Kendrick', object_name='Milton', type=<RelationshipType.PARENT_OF: 'parent of'>), Relationship(subject_name='Kendrick', object_name='Nancy', type=<RelationshipType.PARENT_OF: 'parent of'>), Relationship(subject_name='Lydia', object_name='Milton', type=<RelationshipType.PARENT_OF: 'parent of'>), Relationship(subject_name='Lydia', object_name='Nancy', type=<RelationshipType.PARENT_OF: 'parent of'>), Relationship(subject_name='Oswald', object_name='Prudence', type=<RelationshipType.SPOUSE_OF: 'spouse of'>), Relationship(subject_name='Oswald', object_name='Quentin', type=<RelationshipType.PARENT_OF: 'parent of'>), Relationship(subject_name='Oswald', object_name='Ruth', type=<RelationshipType.PARENT_OF: 'parent of'>), Relationship(subject_name='Prudence', object_name='Quentin', type=<RelationshipType.PARENT_OF: 'parent of'>), Relationship(subject_name='Prudence', object_name='Ruth', type=<RelationshipType.PARENT_OF: 'parent of'>), Relationship(subject_name='Thomas', object_name='Ursula', type=<RelationshipType.SPOUSE_OF: 'spouse of'>), Relationship(subject_name='Thomas', object_name='Vincent', type=<RelationshipType.PARENT_OF: 'parent of'>), Relationship(subject_name='Thomas', object_name='Winifred', type=<RelationshipType.PARENT_OF: 'parent of'>), Relationship(subject_name='Ursula', object_name='Vincent', type=<RelationshipType.PARENT_OF: 'parent of'>), Relationship(subject_name='Ursula', object_name='Winifred', type=<RelationshipType.PARENT_OF: 'parent of'>), Relationship(subject_name='Xavier', object_name='Yvonne', type=<RelationshipType.SPOUSE_OF: 'spouse of'>), Relationship(subject_name='Xavier', object_name='Zachary', type=<RelationshipType.PARENT_OF: 'parent of'>), Relationship(subject_name='Xavier', object_name='Agnes', type=<RelationshipType.PARENT_OF: 'parent of'>), Relationship(subject_name='Yvonne', object_name='Zachary', type=<RelationshipType.PARENT_OF: 'parent of'>), Relationship(subject_name='Yvonne', object_name='Agnes', type=<RelationshipType.PARENT_OF: 'parent of'>), Relationship(subject_name='Benedict', object_name='Cecilia', type=<RelationshipType.SPOUSE_OF: 'spouse of'>), Relationship(subject_name='Benedict', object_name='Dunstan', type=<RelationshipType.PARENT_OF: 'parent of'>), Relationship(subject_name='Cecilia', object_name='Dunstan', type=<RelationshipType.PARENT_OF: 'parent of'>)])"
      ]
     },
     "execution_count": 18,
     "metadata": {},
     "output_type": "execute_result"
    }
   ],
   "source": [
    "village = chain.run(location=\"Hertfordshire, England\", year=1086, population=30)\n",
    "village"
   ]
  },
  {
   "cell_type": "code",
   "execution_count": 19,
   "id": "452e762d-eea8-4321-bc5c-f22c88076d45",
   "metadata": {},
   "outputs": [
    {
     "data": {
      "application/json": {
       "county": "Hertfordshire",
       "description": "A small farming village in Hertfordshire, England",
       "name": "Ashridge",
       "relationships": [
        {
         "object_name": "Bertha",
         "subject_name": "Albert",
         "type": "spouse of"
        },
        {
         "object_name": "Edward",
         "subject_name": "Albert",
         "type": "parent of"
        },
        {
         "object_name": "Felicity",
         "subject_name": "Albert",
         "type": "parent of"
        },
        {
         "object_name": "Edward",
         "subject_name": "Bertha",
         "type": "parent of"
        },
        {
         "object_name": "Felicity",
         "subject_name": "Bertha",
         "type": "parent of"
        },
        {
         "object_name": "Helen",
         "subject_name": "Geoffrey",
         "type": "spouse of"
        },
        {
         "object_name": "Isaac",
         "subject_name": "Geoffrey",
         "type": "parent of"
        },
        {
         "object_name": "Jane",
         "subject_name": "Geoffrey",
         "type": "parent of"
        },
        {
         "object_name": "Isaac",
         "subject_name": "Helen",
         "type": "parent of"
        },
        {
         "object_name": "Jane",
         "subject_name": "Helen",
         "type": "parent of"
        },
        {
         "object_name": "Lydia",
         "subject_name": "Kendrick",
         "type": "spouse of"
        },
        {
         "object_name": "Milton",
         "subject_name": "Kendrick",
         "type": "parent of"
        },
        {
         "object_name": "Nancy",
         "subject_name": "Kendrick",
         "type": "parent of"
        },
        {
         "object_name": "Milton",
         "subject_name": "Lydia",
         "type": "parent of"
        },
        {
         "object_name": "Nancy",
         "subject_name": "Lydia",
         "type": "parent of"
        },
        {
         "object_name": "Prudence",
         "subject_name": "Oswald",
         "type": "spouse of"
        },
        {
         "object_name": "Quentin",
         "subject_name": "Oswald",
         "type": "parent of"
        },
        {
         "object_name": "Ruth",
         "subject_name": "Oswald",
         "type": "parent of"
        },
        {
         "object_name": "Quentin",
         "subject_name": "Prudence",
         "type": "parent of"
        },
        {
         "object_name": "Ruth",
         "subject_name": "Prudence",
         "type": "parent of"
        },
        {
         "object_name": "Ursula",
         "subject_name": "Thomas",
         "type": "spouse of"
        },
        {
         "object_name": "Vincent",
         "subject_name": "Thomas",
         "type": "parent of"
        },
        {
         "object_name": "Winifred",
         "subject_name": "Thomas",
         "type": "parent of"
        },
        {
         "object_name": "Vincent",
         "subject_name": "Ursula",
         "type": "parent of"
        },
        {
         "object_name": "Winifred",
         "subject_name": "Ursula",
         "type": "parent of"
        },
        {
         "object_name": "Yvonne",
         "subject_name": "Xavier",
         "type": "spouse of"
        },
        {
         "object_name": "Zachary",
         "subject_name": "Xavier",
         "type": "parent of"
        },
        {
         "object_name": "Agnes",
         "subject_name": "Xavier",
         "type": "parent of"
        },
        {
         "object_name": "Zachary",
         "subject_name": "Yvonne",
         "type": "parent of"
        },
        {
         "object_name": "Agnes",
         "subject_name": "Yvonne",
         "type": "parent of"
        },
        {
         "object_name": "Cecilia",
         "subject_name": "Benedict",
         "type": "spouse of"
        },
        {
         "object_name": "Dunstan",
         "subject_name": "Benedict",
         "type": "parent of"
        },
        {
         "object_name": "Dunstan",
         "subject_name": "Cecilia",
         "type": "parent of"
        }
       ],
       "villagers": [
        {
         "age": 50,
         "ethnicity": "english",
         "name": "Albert",
         "occupation": "farmer",
         "sex": "male"
        },
        {
         "age": 45,
         "ethnicity": "english",
         "name": "Bertha",
         "occupation": "farmer's wife",
         "sex": "female"
        },
        {
         "age": 22,
         "ethnicity": "english",
         "name": "Cuthbert",
         "occupation": "blacksmith",
         "sex": "male"
        },
        {
         "age": 20,
         "ethnicity": "english",
         "name": "Dorothy",
         "occupation": "weaver",
         "sex": "female"
        },
        {
         "age": 18,
         "ethnicity": "english",
         "name": "Edward",
         "occupation": "farmer's son",
         "sex": "male"
        },
        {
         "age": 16,
         "ethnicity": "english",
         "name": "Felicity",
         "occupation": "farmer's daughter",
         "sex": "female"
        },
        {
         "age": 35,
         "ethnicity": "english",
         "name": "Geoffrey",
         "occupation": "carpenter",
         "sex": "male"
        },
        {
         "age": 33,
         "ethnicity": "english",
         "name": "Helen",
         "occupation": "carpenter's wife",
         "sex": "female"
        },
        {
         "age": 12,
         "ethnicity": "english",
         "name": "Isaac",
         "occupation": "carpenter's son",
         "sex": "male"
        },
        {
         "age": 10,
         "ethnicity": "english",
         "name": "Jane",
         "occupation": "carpenter's daughter",
         "sex": "female"
        },
        {
         "age": 40,
         "ethnicity": "english",
         "name": "Kendrick",
         "occupation": "miller",
         "sex": "male"
        },
        {
         "age": 38,
         "ethnicity": "english",
         "name": "Lydia",
         "occupation": "miller's wife",
         "sex": "female"
        },
        {
         "age": 15,
         "ethnicity": "english",
         "name": "Milton",
         "occupation": "miller's son",
         "sex": "male"
        },
        {
         "age": 13,
         "ethnicity": "english",
         "name": "Nancy",
         "occupation": "miller's daughter",
         "sex": "female"
        },
        {
         "age": 28,
         "ethnicity": "english",
         "name": "Oswald",
         "occupation": "baker",
         "sex": "male"
        },
        {
         "age": 26,
         "ethnicity": "english",
         "name": "Prudence",
         "occupation": "baker's wife",
         "sex": "female"
        },
        {
         "age": 5,
         "ethnicity": "english",
         "name": "Quentin",
         "occupation": "baker's son",
         "sex": "male"
        },
        {
         "age": 3,
         "ethnicity": "english",
         "name": "Ruth",
         "occupation": "baker's daughter",
         "sex": "female"
        },
        {
         "age": 55,
         "ethnicity": "english",
         "name": "Samuel",
         "occupation": "priest",
         "sex": "male"
        },
        {
         "age": 30,
         "ethnicity": "english",
         "name": "Thomas",
         "occupation": "shepherd",
         "sex": "male"
        },
        {
         "age": 28,
         "ethnicity": "english",
         "name": "Ursula",
         "occupation": "shepherd's wife",
         "sex": "female"
        },
        {
         "age": 7,
         "ethnicity": "english",
         "name": "Vincent",
         "occupation": "shepherd's son",
         "sex": "male"
        },
        {
         "age": 5,
         "ethnicity": "english",
         "name": "Winifred",
         "occupation": "shepherd's daughter",
         "sex": "female"
        },
        {
         "age": 45,
         "ethnicity": "english",
         "name": "Xavier",
         "occupation": "fisherman",
         "sex": "male"
        },
        {
         "age": 43,
         "ethnicity": "english",
         "name": "Yvonne",
         "occupation": "fisherman's wife",
         "sex": "female"
        },
        {
         "age": 20,
         "ethnicity": "english",
         "name": "Zachary",
         "occupation": "fisherman's son",
         "sex": "male"
        },
        {
         "age": 18,
         "ethnicity": "english",
         "name": "Agnes",
         "occupation": "fisherman's daughter",
         "sex": "female"
        },
        {
         "age": 60,
         "ethnicity": "english",
         "name": "Benedict",
         "occupation": "hermit",
         "sex": "male"
        },
        {
         "age": 58,
         "ethnicity": "english",
         "name": "Cecilia",
         "occupation": "hermit's wife",
         "sex": "female"
        },
        {
         "age": 25,
         "ethnicity": "english",
         "name": "Dunstan",
         "occupation": "hermit's son",
         "sex": "male"
        }
       ],
       "year": 1086
      },
      "text/plain": [
       "<IPython.core.display.JSON object>"
      ]
     },
     "metadata": {
      "application/json": {
       "expanded": false,
       "root": "root"
      }
     },
     "output_type": "display_data"
    },
    {
     "data": {
      "text/html": [
       "<div>\n",
       "<style scoped>\n",
       "    .dataframe tbody tr th:only-of-type {\n",
       "        vertical-align: middle;\n",
       "    }\n",
       "\n",
       "    .dataframe tbody tr th {\n",
       "        vertical-align: top;\n",
       "    }\n",
       "\n",
       "    .dataframe thead th {\n",
       "        text-align: right;\n",
       "    }\n",
       "</style>\n",
       "<table border=\"1\" class=\"dataframe\">\n",
       "  <thead>\n",
       "    <tr style=\"text-align: right;\">\n",
       "      <th></th>\n",
       "      <th>age</th>\n",
       "      <th>sex</th>\n",
       "      <th>occupation</th>\n",
       "      <th>ethnicity</th>\n",
       "    </tr>\n",
       "    <tr>\n",
       "      <th>name</th>\n",
       "      <th></th>\n",
       "      <th></th>\n",
       "      <th></th>\n",
       "      <th></th>\n",
       "    </tr>\n",
       "  </thead>\n",
       "  <tbody>\n",
       "    <tr>\n",
       "      <th>Albert</th>\n",
       "      <td>50</td>\n",
       "      <td>male</td>\n",
       "      <td>farmer</td>\n",
       "      <td>english</td>\n",
       "    </tr>\n",
       "    <tr>\n",
       "      <th>Bertha</th>\n",
       "      <td>45</td>\n",
       "      <td>female</td>\n",
       "      <td>farmer's wife</td>\n",
       "      <td>english</td>\n",
       "    </tr>\n",
       "    <tr>\n",
       "      <th>Cuthbert</th>\n",
       "      <td>22</td>\n",
       "      <td>male</td>\n",
       "      <td>blacksmith</td>\n",
       "      <td>english</td>\n",
       "    </tr>\n",
       "    <tr>\n",
       "      <th>Dorothy</th>\n",
       "      <td>20</td>\n",
       "      <td>female</td>\n",
       "      <td>weaver</td>\n",
       "      <td>english</td>\n",
       "    </tr>\n",
       "    <tr>\n",
       "      <th>Edward</th>\n",
       "      <td>18</td>\n",
       "      <td>male</td>\n",
       "      <td>farmer's son</td>\n",
       "      <td>english</td>\n",
       "    </tr>\n",
       "    <tr>\n",
       "      <th>Felicity</th>\n",
       "      <td>16</td>\n",
       "      <td>female</td>\n",
       "      <td>farmer's daughter</td>\n",
       "      <td>english</td>\n",
       "    </tr>\n",
       "    <tr>\n",
       "      <th>Geoffrey</th>\n",
       "      <td>35</td>\n",
       "      <td>male</td>\n",
       "      <td>carpenter</td>\n",
       "      <td>english</td>\n",
       "    </tr>\n",
       "    <tr>\n",
       "      <th>Helen</th>\n",
       "      <td>33</td>\n",
       "      <td>female</td>\n",
       "      <td>carpenter's wife</td>\n",
       "      <td>english</td>\n",
       "    </tr>\n",
       "    <tr>\n",
       "      <th>Isaac</th>\n",
       "      <td>12</td>\n",
       "      <td>male</td>\n",
       "      <td>carpenter's son</td>\n",
       "      <td>english</td>\n",
       "    </tr>\n",
       "    <tr>\n",
       "      <th>Jane</th>\n",
       "      <td>10</td>\n",
       "      <td>female</td>\n",
       "      <td>carpenter's daughter</td>\n",
       "      <td>english</td>\n",
       "    </tr>\n",
       "    <tr>\n",
       "      <th>Kendrick</th>\n",
       "      <td>40</td>\n",
       "      <td>male</td>\n",
       "      <td>miller</td>\n",
       "      <td>english</td>\n",
       "    </tr>\n",
       "    <tr>\n",
       "      <th>Lydia</th>\n",
       "      <td>38</td>\n",
       "      <td>female</td>\n",
       "      <td>miller's wife</td>\n",
       "      <td>english</td>\n",
       "    </tr>\n",
       "    <tr>\n",
       "      <th>Milton</th>\n",
       "      <td>15</td>\n",
       "      <td>male</td>\n",
       "      <td>miller's son</td>\n",
       "      <td>english</td>\n",
       "    </tr>\n",
       "    <tr>\n",
       "      <th>Nancy</th>\n",
       "      <td>13</td>\n",
       "      <td>female</td>\n",
       "      <td>miller's daughter</td>\n",
       "      <td>english</td>\n",
       "    </tr>\n",
       "    <tr>\n",
       "      <th>Oswald</th>\n",
       "      <td>28</td>\n",
       "      <td>male</td>\n",
       "      <td>baker</td>\n",
       "      <td>english</td>\n",
       "    </tr>\n",
       "    <tr>\n",
       "      <th>Prudence</th>\n",
       "      <td>26</td>\n",
       "      <td>female</td>\n",
       "      <td>baker's wife</td>\n",
       "      <td>english</td>\n",
       "    </tr>\n",
       "    <tr>\n",
       "      <th>Quentin</th>\n",
       "      <td>5</td>\n",
       "      <td>male</td>\n",
       "      <td>baker's son</td>\n",
       "      <td>english</td>\n",
       "    </tr>\n",
       "    <tr>\n",
       "      <th>Ruth</th>\n",
       "      <td>3</td>\n",
       "      <td>female</td>\n",
       "      <td>baker's daughter</td>\n",
       "      <td>english</td>\n",
       "    </tr>\n",
       "    <tr>\n",
       "      <th>Samuel</th>\n",
       "      <td>55</td>\n",
       "      <td>male</td>\n",
       "      <td>priest</td>\n",
       "      <td>english</td>\n",
       "    </tr>\n",
       "    <tr>\n",
       "      <th>Thomas</th>\n",
       "      <td>30</td>\n",
       "      <td>male</td>\n",
       "      <td>shepherd</td>\n",
       "      <td>english</td>\n",
       "    </tr>\n",
       "    <tr>\n",
       "      <th>Ursula</th>\n",
       "      <td>28</td>\n",
       "      <td>female</td>\n",
       "      <td>shepherd's wife</td>\n",
       "      <td>english</td>\n",
       "    </tr>\n",
       "    <tr>\n",
       "      <th>Vincent</th>\n",
       "      <td>7</td>\n",
       "      <td>male</td>\n",
       "      <td>shepherd's son</td>\n",
       "      <td>english</td>\n",
       "    </tr>\n",
       "    <tr>\n",
       "      <th>Winifred</th>\n",
       "      <td>5</td>\n",
       "      <td>female</td>\n",
       "      <td>shepherd's daughter</td>\n",
       "      <td>english</td>\n",
       "    </tr>\n",
       "    <tr>\n",
       "      <th>Xavier</th>\n",
       "      <td>45</td>\n",
       "      <td>male</td>\n",
       "      <td>fisherman</td>\n",
       "      <td>english</td>\n",
       "    </tr>\n",
       "    <tr>\n",
       "      <th>Yvonne</th>\n",
       "      <td>43</td>\n",
       "      <td>female</td>\n",
       "      <td>fisherman's wife</td>\n",
       "      <td>english</td>\n",
       "    </tr>\n",
       "    <tr>\n",
       "      <th>Zachary</th>\n",
       "      <td>20</td>\n",
       "      <td>male</td>\n",
       "      <td>fisherman's son</td>\n",
       "      <td>english</td>\n",
       "    </tr>\n",
       "    <tr>\n",
       "      <th>Agnes</th>\n",
       "      <td>18</td>\n",
       "      <td>female</td>\n",
       "      <td>fisherman's daughter</td>\n",
       "      <td>english</td>\n",
       "    </tr>\n",
       "    <tr>\n",
       "      <th>Benedict</th>\n",
       "      <td>60</td>\n",
       "      <td>male</td>\n",
       "      <td>hermit</td>\n",
       "      <td>english</td>\n",
       "    </tr>\n",
       "    <tr>\n",
       "      <th>Cecilia</th>\n",
       "      <td>58</td>\n",
       "      <td>female</td>\n",
       "      <td>hermit's wife</td>\n",
       "      <td>english</td>\n",
       "    </tr>\n",
       "    <tr>\n",
       "      <th>Dunstan</th>\n",
       "      <td>25</td>\n",
       "      <td>male</td>\n",
       "      <td>hermit's son</td>\n",
       "      <td>english</td>\n",
       "    </tr>\n",
       "  </tbody>\n",
       "</table>\n",
       "</div>"
      ],
      "text/plain": [
       "          age     sex            occupation ethnicity\n",
       "name                                                 \n",
       "Albert     50    male                farmer   english\n",
       "Bertha     45  female         farmer's wife   english\n",
       "Cuthbert   22    male            blacksmith   english\n",
       "Dorothy    20  female                weaver   english\n",
       "Edward     18    male          farmer's son   english\n",
       "Felicity   16  female     farmer's daughter   english\n",
       "Geoffrey   35    male             carpenter   english\n",
       "Helen      33  female      carpenter's wife   english\n",
       "Isaac      12    male       carpenter's son   english\n",
       "Jane       10  female  carpenter's daughter   english\n",
       "Kendrick   40    male                miller   english\n",
       "Lydia      38  female         miller's wife   english\n",
       "Milton     15    male          miller's son   english\n",
       "Nancy      13  female     miller's daughter   english\n",
       "Oswald     28    male                 baker   english\n",
       "Prudence   26  female          baker's wife   english\n",
       "Quentin     5    male           baker's son   english\n",
       "Ruth        3  female      baker's daughter   english\n",
       "Samuel     55    male                priest   english\n",
       "Thomas     30    male              shepherd   english\n",
       "Ursula     28  female       shepherd's wife   english\n",
       "Vincent     7    male        shepherd's son   english\n",
       "Winifred    5  female   shepherd's daughter   english\n",
       "Xavier     45    male             fisherman   english\n",
       "Yvonne     43  female      fisherman's wife   english\n",
       "Zachary    20    male       fisherman's son   english\n",
       "Agnes      18  female  fisherman's daughter   english\n",
       "Benedict   60    male                hermit   english\n",
       "Cecilia    58  female         hermit's wife   english\n",
       "Dunstan    25    male          hermit's son   english"
      ]
     },
     "metadata": {},
     "output_type": "display_data"
    },
    {
     "data": {
      "image/svg+xml": [
       "<?xml version=\"1.0\" encoding=\"UTF-8\" standalone=\"no\"?>\n",
       "<!DOCTYPE svg PUBLIC \"-//W3C//DTD SVG 1.1//EN\"\n",
       " \"http://www.w3.org/Graphics/SVG/1.1/DTD/svg11.dtd\">\n",
       "<!-- Generated by graphviz version 8.1.0 (20230707.0739)\n",
       " -->\n",
       "<!-- Pages: 1 -->\n",
       "<svg width=\"3395pt\" height=\"188pt\"\n",
       " viewBox=\"0.00 0.00 3394.74 188.00\" xmlns=\"http://www.w3.org/2000/svg\" xmlns:xlink=\"http://www.w3.org/1999/xlink\">\n",
       "<g id=\"graph0\" class=\"graph\" transform=\"scale(1 1) rotate(0) translate(4 184)\">\n",
       "<polygon fill=\"white\" stroke=\"none\" points=\"-4,4 -4,-184 3390.74,-184 3390.74,4 -4,4\"/>\n",
       "<!-- Albert -->\n",
       "<g id=\"node1\" class=\"node\">\n",
       "<title>Albert</title>\n",
       "<ellipse fill=\"none\" stroke=\"black\" cx=\"233.6\" cy=\"-162\" rx=\"80.01\" ry=\"18\"/>\n",
       "<text text-anchor=\"middle\" x=\"233.6\" y=\"-156.95\" font-family=\"Times,serif\" font-size=\"14.00\">Albert(50): farmer</text>\n",
       "</g>\n",
       "<!-- Bertha -->\n",
       "<g id=\"node2\" class=\"node\">\n",
       "<title>Bertha</title>\n",
       "<ellipse fill=\"none\" stroke=\"black\" cx=\"233.6\" cy=\"-90\" rx=\"105.09\" ry=\"18\"/>\n",
       "<text text-anchor=\"middle\" x=\"233.6\" y=\"-84.95\" font-family=\"Times,serif\" font-size=\"14.00\">Bertha(45): farmer&#39;s wife</text>\n",
       "</g>\n",
       "<!-- Albert&#45;&gt;Bertha -->\n",
       "<g id=\"edge1\" class=\"edge\">\n",
       "<title>Albert&#45;&gt;Bertha</title>\n",
       "<path fill=\"none\" stroke=\"black\" stroke-width=\"2\" d=\"M233.6,-143.7C233.6,-132.85 233.6,-118.92 233.6,-108.1\"/>\n",
       "</g>\n",
       "<!-- Edward -->\n",
       "<g id=\"node5\" class=\"node\">\n",
       "<title>Edward</title>\n",
       "<ellipse fill=\"none\" stroke=\"black\" cx=\"105.6\" cy=\"-18\" rx=\"105.6\" ry=\"18\"/>\n",
       "<text text-anchor=\"middle\" x=\"105.6\" y=\"-12.95\" font-family=\"Times,serif\" font-size=\"14.00\">Edward(18): farmer&#39;s son</text>\n",
       "</g>\n",
       "<!-- Albert&#45;&gt;Edward -->\n",
       "<g id=\"edge2\" class=\"edge\">\n",
       "<title>Albert&#45;&gt;Edward</title>\n",
       "<path fill=\"none\" stroke=\"black\" d=\"M180.23,-148.19C158.19,-140.22 134.38,-127.61 119.6,-108 106.58,-90.72 103.55,-66.14 103.5,-47.19\"/>\n",
       "<polygon fill=\"black\" stroke=\"black\" points=\"107.03,-47.32 103.8,-37.23 100.03,-47.13 107.03,-47.32\"/>\n",
       "</g>\n",
       "<!-- Felicity -->\n",
       "<g id=\"node6\" class=\"node\">\n",
       "<title>Felicity</title>\n",
       "<ellipse fill=\"none\" stroke=\"black\" cx=\"357.6\" cy=\"-18\" rx=\"124.54\" ry=\"18\"/>\n",
       "<text text-anchor=\"middle\" x=\"357.6\" y=\"-12.95\" font-family=\"Times,serif\" font-size=\"14.00\">Felicity(16): farmer&#39;s daughter</text>\n",
       "</g>\n",
       "<!-- Albert&#45;&gt;Felicity -->\n",
       "<g id=\"edge3\" class=\"edge\">\n",
       "<title>Albert&#45;&gt;Felicity</title>\n",
       "<path fill=\"none\" stroke=\"black\" d=\"M287.68,-148.39C309.72,-140.47 333.33,-127.84 347.6,-108 360.16,-90.55 362.07,-65.98 361.17,-47.07\"/>\n",
       "<polygon fill=\"black\" stroke=\"black\" points=\"364.59,-46.85 360.32,-37.15 357.61,-47.39 364.59,-46.85\"/>\n",
       "</g>\n",
       "<!-- Bertha&#45;&gt;Edward -->\n",
       "<g id=\"edge4\" class=\"edge\">\n",
       "<title>Bertha&#45;&gt;Edward</title>\n",
       "<path fill=\"none\" stroke=\"black\" d=\"M203.27,-72.41C186.02,-62.98 164.21,-51.05 145.58,-40.86\"/>\n",
       "<polygon fill=\"black\" stroke=\"black\" points=\"147.62,-37.44 137.16,-35.71 144.26,-43.58 147.62,-37.44\"/>\n",
       "</g>\n",
       "<!-- Bertha&#45;&gt;Felicity -->\n",
       "<g id=\"edge5\" class=\"edge\">\n",
       "<title>Bertha&#45;&gt;Felicity</title>\n",
       "<path fill=\"none\" stroke=\"black\" d=\"M262.99,-72.41C279.43,-63.13 300.14,-51.44 317.99,-41.36\"/>\n",
       "<polygon fill=\"black\" stroke=\"black\" points=\"319.58,-43.92 326.57,-35.96 316.14,-37.82 319.58,-43.92\"/>\n",
       "</g>\n",
       "<!-- Cuthbert -->\n",
       "<g id=\"node3\" class=\"node\">\n",
       "<title>Cuthbert</title>\n",
       "<ellipse fill=\"none\" stroke=\"black\" cx=\"436.6\" cy=\"-162\" rx=\"104.58\" ry=\"18\"/>\n",
       "<text text-anchor=\"middle\" x=\"436.6\" y=\"-156.95\" font-family=\"Times,serif\" font-size=\"14.00\">Cuthbert(22): blacksmith</text>\n",
       "</g>\n",
       "<!-- Dorothy -->\n",
       "<g id=\"node4\" class=\"node\">\n",
       "<title>Dorothy</title>\n",
       "<ellipse fill=\"none\" stroke=\"black\" cx=\"647.6\" cy=\"-162\" rx=\"88.71\" ry=\"18\"/>\n",
       "<text text-anchor=\"middle\" x=\"647.6\" y=\"-156.95\" font-family=\"Times,serif\" font-size=\"14.00\">Dorothy(20): weaver</text>\n",
       "</g>\n",
       "<!-- Geoffrey -->\n",
       "<g id=\"node7\" class=\"node\">\n",
       "<title>Geoffrey</title>\n",
       "<ellipse fill=\"none\" stroke=\"black\" cx=\"853.6\" cy=\"-162\" rx=\"98.95\" ry=\"18\"/>\n",
       "<text text-anchor=\"middle\" x=\"853.6\" y=\"-156.95\" font-family=\"Times,serif\" font-size=\"14.00\">Geoffrey(35): carpenter</text>\n",
       "</g>\n",
       "<!-- Helen -->\n",
       "<g id=\"node8\" class=\"node\">\n",
       "<title>Helen</title>\n",
       "<ellipse fill=\"none\" stroke=\"black\" cx=\"853.6\" cy=\"-90\" rx=\"111.74\" ry=\"18\"/>\n",
       "<text text-anchor=\"middle\" x=\"853.6\" y=\"-84.95\" font-family=\"Times,serif\" font-size=\"14.00\">Helen(33): carpenter&#39;s wife</text>\n",
       "</g>\n",
       "<!-- Geoffrey&#45;&gt;Helen -->\n",
       "<g id=\"edge6\" class=\"edge\">\n",
       "<title>Geoffrey&#45;&gt;Helen</title>\n",
       "<path fill=\"none\" stroke=\"black\" stroke-width=\"2\" d=\"M853.6,-143.7C853.6,-132.85 853.6,-118.92 853.6,-108.1\"/>\n",
       "</g>\n",
       "<!-- Isaac -->\n",
       "<g id=\"node9\" class=\"node\">\n",
       "<title>Isaac</title>\n",
       "<ellipse fill=\"none\" stroke=\"black\" cx=\"722.6\" cy=\"-18\" rx=\"105.09\" ry=\"18\"/>\n",
       "<text text-anchor=\"middle\" x=\"722.6\" y=\"-12.95\" font-family=\"Times,serif\" font-size=\"14.00\">Isaac(12): carpenter&#39;s son</text>\n",
       "</g>\n",
       "<!-- Geoffrey&#45;&gt;Isaac -->\n",
       "<g id=\"edge7\" class=\"edge\">\n",
       "<title>Geoffrey&#45;&gt;Isaac</title>\n",
       "<path fill=\"none\" stroke=\"black\" d=\"M791.56,-147.56C769.59,-139.67 746.82,-127.3 732.6,-108 719.85,-90.69 717.96,-66.11 718.91,-47.16\"/>\n",
       "<polygon fill=\"black\" stroke=\"black\" points=\"722.48,-47.46 719.8,-37.21 715.5,-46.89 722.48,-47.46\"/>\n",
       "</g>\n",
       "<!-- Jane -->\n",
       "<g id=\"node10\" class=\"node\">\n",
       "<title>Jane</title>\n",
       "<ellipse fill=\"none\" stroke=\"black\" cx=\"984.6\" cy=\"-18\" rx=\"121.98\" ry=\"18\"/>\n",
       "<text text-anchor=\"middle\" x=\"984.6\" y=\"-12.95\" font-family=\"Times,serif\" font-size=\"14.00\">Jane(10): carpenter&#39;s daughter</text>\n",
       "</g>\n",
       "<!-- Geoffrey&#45;&gt;Jane -->\n",
       "<g id=\"edge8\" class=\"edge\">\n",
       "<title>Geoffrey&#45;&gt;Jane</title>\n",
       "<path fill=\"none\" stroke=\"black\" d=\"M915.64,-147.56C937.62,-139.67 960.39,-127.3 974.6,-108 987.36,-90.69 989.25,-66.11 988.29,-47.16\"/>\n",
       "<polygon fill=\"black\" stroke=\"black\" points=\"991.7,-46.89 987.4,-37.21 984.72,-47.46 991.7,-46.89\"/>\n",
       "</g>\n",
       "<!-- Helen&#45;&gt;Isaac -->\n",
       "<g id=\"edge9\" class=\"edge\">\n",
       "<title>Helen&#45;&gt;Isaac</title>\n",
       "<path fill=\"none\" stroke=\"black\" d=\"M822.56,-72.41C804.78,-62.91 782.26,-50.88 763.1,-40.64\"/>\n",
       "<polygon fill=\"black\" stroke=\"black\" points=\"764.89,-37.1 754.43,-35.47 761.6,-43.27 764.89,-37.1\"/>\n",
       "</g>\n",
       "<!-- Helen&#45;&gt;Jane -->\n",
       "<g id=\"edge10\" class=\"edge\">\n",
       "<title>Helen&#45;&gt;Jane</title>\n",
       "<path fill=\"none\" stroke=\"black\" d=\"M884.65,-72.41C902.3,-62.98 924.62,-51.05 943.69,-40.86\"/>\n",
       "<polygon fill=\"black\" stroke=\"black\" points=\"945.16,-43.51 952.33,-35.71 941.86,-37.34 945.16,-43.51\"/>\n",
       "</g>\n",
       "<!-- Kendrick -->\n",
       "<g id=\"node11\" class=\"node\">\n",
       "<title>Kendrick</title>\n",
       "<ellipse fill=\"none\" stroke=\"black\" cx=\"1346.6\" cy=\"-162\" rx=\"88.2\" ry=\"18\"/>\n",
       "<text text-anchor=\"middle\" x=\"1346.6\" y=\"-156.95\" font-family=\"Times,serif\" font-size=\"14.00\">Kendrick(40): miller</text>\n",
       "</g>\n",
       "<!-- Lydia -->\n",
       "<g id=\"node12\" class=\"node\">\n",
       "<title>Lydia</title>\n",
       "<ellipse fill=\"none\" stroke=\"black\" cx=\"1346.6\" cy=\"-90\" rx=\"99.46\" ry=\"18\"/>\n",
       "<text text-anchor=\"middle\" x=\"1346.6\" y=\"-84.95\" font-family=\"Times,serif\" font-size=\"14.00\">Lydia(38): miller&#39;s wife</text>\n",
       "</g>\n",
       "<!-- Kendrick&#45;&gt;Lydia -->\n",
       "<g id=\"edge11\" class=\"edge\">\n",
       "<title>Kendrick&#45;&gt;Lydia</title>\n",
       "<path fill=\"none\" stroke=\"black\" stroke-width=\"2\" d=\"M1346.6,-143.7C1346.6,-132.85 1346.6,-118.92 1346.6,-108.1\"/>\n",
       "</g>\n",
       "<!-- Milton -->\n",
       "<g id=\"node13\" class=\"node\">\n",
       "<title>Milton</title>\n",
       "<ellipse fill=\"none\" stroke=\"black\" cx=\"1224.6\" cy=\"-18\" rx=\"99.97\" ry=\"18\"/>\n",
       "<text text-anchor=\"middle\" x=\"1224.6\" y=\"-12.95\" font-family=\"Times,serif\" font-size=\"14.00\">Milton(15): miller&#39;s son</text>\n",
       "</g>\n",
       "<!-- Kendrick&#45;&gt;Milton -->\n",
       "<g id=\"edge12\" class=\"edge\">\n",
       "<title>Kendrick&#45;&gt;Milton</title>\n",
       "<path fill=\"none\" stroke=\"black\" d=\"M1294.87,-147.1C1274.29,-138.99 1252.3,-126.58 1238.6,-108 1225.77,-90.59 1222.71,-66.02 1222.62,-47.1\"/>\n",
       "<polygon fill=\"black\" stroke=\"black\" points=\"1226.14,-47.25 1222.88,-37.17 1219.14,-47.08 1226.14,-47.25\"/>\n",
       "</g>\n",
       "<!-- Nancy -->\n",
       "<g id=\"node14\" class=\"node\">\n",
       "<title>Nancy</title>\n",
       "<ellipse fill=\"none\" stroke=\"black\" cx=\"1469.6\" cy=\"-18\" rx=\"117.89\" ry=\"18\"/>\n",
       "<text text-anchor=\"middle\" x=\"1469.6\" y=\"-12.95\" font-family=\"Times,serif\" font-size=\"14.00\">Nancy(13): miller&#39;s daughter</text>\n",
       "</g>\n",
       "<!-- Kendrick&#45;&gt;Nancy -->\n",
       "<g id=\"edge13\" class=\"edge\">\n",
       "<title>Kendrick&#45;&gt;Nancy</title>\n",
       "<path fill=\"none\" stroke=\"black\" d=\"M1398.24,-147.03C1418.8,-138.9 1440.81,-126.5 1454.6,-108 1467.56,-90.63 1470.89,-66.05 1471.22,-47.13\"/>\n",
       "<polygon fill=\"black\" stroke=\"black\" points=\"1474.71,-47.14 1471.1,-37.19 1467.71,-47.22 1474.71,-47.14\"/>\n",
       "</g>\n",
       "<!-- Lydia&#45;&gt;Milton -->\n",
       "<g id=\"edge14\" class=\"edge\">\n",
       "<title>Lydia&#45;&gt;Milton</title>\n",
       "<path fill=\"none\" stroke=\"black\" d=\"M1317.69,-72.41C1301.28,-63 1280.54,-51.1 1262.81,-40.92\"/>\n",
       "<polygon fill=\"black\" stroke=\"black\" points=\"1264.72,-37.41 1254.31,-35.47 1261.24,-43.48 1264.72,-37.41\"/>\n",
       "</g>\n",
       "<!-- Lydia&#45;&gt;Nancy -->\n",
       "<g id=\"edge15\" class=\"edge\">\n",
       "<title>Lydia&#45;&gt;Nancy</title>\n",
       "<path fill=\"none\" stroke=\"black\" d=\"M1375.75,-72.41C1392.18,-63.06 1412.9,-51.27 1430.7,-41.14\"/>\n",
       "<polygon fill=\"black\" stroke=\"black\" points=\"1432.28,-43.7 1439.24,-35.71 1428.81,-37.62 1432.28,-43.7\"/>\n",
       "</g>\n",
       "<!-- Oswald -->\n",
       "<g id=\"node15\" class=\"node\">\n",
       "<title>Oswald</title>\n",
       "<ellipse fill=\"none\" stroke=\"black\" cx=\"1826.6\" cy=\"-162\" rx=\"80.01\" ry=\"18\"/>\n",
       "<text text-anchor=\"middle\" x=\"1826.6\" y=\"-156.95\" font-family=\"Times,serif\" font-size=\"14.00\">Oswald(28): baker</text>\n",
       "</g>\n",
       "<!-- Prudence -->\n",
       "<g id=\"node16\" class=\"node\">\n",
       "<title>Prudence</title>\n",
       "<ellipse fill=\"none\" stroke=\"black\" cx=\"1826.6\" cy=\"-90\" rx=\"110.21\" ry=\"18\"/>\n",
       "<text text-anchor=\"middle\" x=\"1826.6\" y=\"-84.95\" font-family=\"Times,serif\" font-size=\"14.00\">Prudence(26): baker&#39;s wife</text>\n",
       "</g>\n",
       "<!-- Oswald&#45;&gt;Prudence -->\n",
       "<g id=\"edge16\" class=\"edge\">\n",
       "<title>Oswald&#45;&gt;Prudence</title>\n",
       "<path fill=\"none\" stroke=\"black\" stroke-width=\"2\" d=\"M1826.6,-143.7C1826.6,-132.85 1826.6,-118.92 1826.6,-108.1\"/>\n",
       "</g>\n",
       "<!-- Quentin -->\n",
       "<g id=\"node17\" class=\"node\">\n",
       "<title>Quentin</title>\n",
       "<ellipse fill=\"none\" stroke=\"black\" cx=\"1702.6\" cy=\"-18\" rx=\"97.41\" ry=\"18\"/>\n",
       "<text text-anchor=\"middle\" x=\"1702.6\" y=\"-12.95\" font-family=\"Times,serif\" font-size=\"14.00\">Quentin(5): baker&#39;s son</text>\n",
       "</g>\n",
       "<!-- Oswald&#45;&gt;Quentin -->\n",
       "<g id=\"edge17\" class=\"edge\">\n",
       "<title>Oswald&#45;&gt;Quentin</title>\n",
       "<path fill=\"none\" stroke=\"black\" d=\"M1769.04,-149.14C1746.13,-141.37 1721.86,-128.66 1707.6,-108 1695.52,-90.49 1694.97,-66.12 1697.06,-47.31\"/>\n",
       "<polygon fill=\"black\" stroke=\"black\" points=\"1700.66,-47.82 1698.61,-37.43 1693.73,-46.83 1700.66,-47.82\"/>\n",
       "</g>\n",
       "<!-- Ruth -->\n",
       "<g id=\"node18\" class=\"node\">\n",
       "<title>Ruth</title>\n",
       "<ellipse fill=\"none\" stroke=\"black\" cx=\"1950.6\" cy=\"-18\" rx=\"105.09\" ry=\"18\"/>\n",
       "<text text-anchor=\"middle\" x=\"1950.6\" y=\"-12.95\" font-family=\"Times,serif\" font-size=\"14.00\">Ruth(3): baker&#39;s daughter</text>\n",
       "</g>\n",
       "<!-- Oswald&#45;&gt;Ruth -->\n",
       "<g id=\"edge18\" class=\"edge\">\n",
       "<title>Oswald&#45;&gt;Ruth</title>\n",
       "<path fill=\"none\" stroke=\"black\" d=\"M1884.17,-149.14C1907.08,-141.37 1931.35,-128.66 1945.6,-108 1957.68,-90.49 1958.23,-66.12 1956.15,-47.31\"/>\n",
       "<polygon fill=\"black\" stroke=\"black\" points=\"1959.47,-46.83 1954.59,-37.43 1952.54,-47.82 1959.47,-46.83\"/>\n",
       "</g>\n",
       "<!-- Prudence&#45;&gt;Quentin -->\n",
       "<g id=\"edge19\" class=\"edge\">\n",
       "<title>Prudence&#45;&gt;Quentin</title>\n",
       "<path fill=\"none\" stroke=\"black\" d=\"M1796.9,-72.23C1780.34,-62.88 1759.51,-51.12 1741.64,-41.04\"/>\n",
       "<polygon fill=\"black\" stroke=\"black\" points=\"1743.49,-37.5 1733.06,-35.63 1740.05,-43.59 1743.49,-37.5\"/>\n",
       "</g>\n",
       "<!-- Prudence&#45;&gt;Ruth -->\n",
       "<g id=\"edge20\" class=\"edge\">\n",
       "<title>Prudence&#45;&gt;Ruth</title>\n",
       "<path fill=\"none\" stroke=\"black\" d=\"M1856.3,-72.23C1872.87,-62.88 1893.7,-51.12 1911.57,-41.04\"/>\n",
       "<polygon fill=\"black\" stroke=\"black\" points=\"1913.16,-43.59 1920.14,-35.63 1909.72,-37.5 1913.16,-43.59\"/>\n",
       "</g>\n",
       "<!-- Samuel -->\n",
       "<g id=\"node19\" class=\"node\">\n",
       "<title>Samuel</title>\n",
       "<ellipse fill=\"none\" stroke=\"black\" cx=\"2056.6\" cy=\"-162\" rx=\"80.01\" ry=\"18\"/>\n",
       "<text text-anchor=\"middle\" x=\"2056.6\" y=\"-156.95\" font-family=\"Times,serif\" font-size=\"14.00\">Samuel(55): priest</text>\n",
       "</g>\n",
       "<!-- Thomas -->\n",
       "<g id=\"node20\" class=\"node\">\n",
       "<title>Thomas</title>\n",
       "<ellipse fill=\"none\" stroke=\"black\" cx=\"2319.6\" cy=\"-162\" rx=\"94.86\" ry=\"18\"/>\n",
       "<text text-anchor=\"middle\" x=\"2319.6\" y=\"-156.95\" font-family=\"Times,serif\" font-size=\"14.00\">Thomas(30): shepherd</text>\n",
       "</g>\n",
       "<!-- Ursula -->\n",
       "<g id=\"node21\" class=\"node\">\n",
       "<title>Ursula</title>\n",
       "<ellipse fill=\"none\" stroke=\"black\" cx=\"2319.6\" cy=\"-90\" rx=\"113.28\" ry=\"18\"/>\n",
       "<text text-anchor=\"middle\" x=\"2319.6\" y=\"-84.95\" font-family=\"Times,serif\" font-size=\"14.00\">Ursula(28): shepherd&#39;s wife</text>\n",
       "</g>\n",
       "<!-- Thomas&#45;&gt;Ursula -->\n",
       "<g id=\"edge21\" class=\"edge\">\n",
       "<title>Thomas&#45;&gt;Ursula</title>\n",
       "<path fill=\"none\" stroke=\"black\" stroke-width=\"2\" d=\"M2319.6,-143.7C2319.6,-132.85 2319.6,-118.92 2319.6,-108.1\"/>\n",
       "</g>\n",
       "<!-- Vincent -->\n",
       "<g id=\"node22\" class=\"node\">\n",
       "<title>Vincent</title>\n",
       "<ellipse fill=\"none\" stroke=\"black\" cx=\"2183.6\" cy=\"-18\" rx=\"109.7\" ry=\"18\"/>\n",
       "<text text-anchor=\"middle\" x=\"2183.6\" y=\"-12.95\" font-family=\"Times,serif\" font-size=\"14.00\">Vincent(7): shepherd&#39;s son</text>\n",
       "</g>\n",
       "<!-- Thomas&#45;&gt;Vincent -->\n",
       "<g id=\"edge22\" class=\"edge\">\n",
       "<title>Thomas&#45;&gt;Vincent</title>\n",
       "<path fill=\"none\" stroke=\"black\" d=\"M2258.78,-147.79C2236.3,-139.89 2212.65,-127.45 2197.6,-108 2184.37,-90.89 2181.35,-66.29 2181.37,-47.29\"/>\n",
       "<polygon fill=\"black\" stroke=\"black\" points=\"2184.89,-47.4 2181.71,-37.3 2177.9,-47.19 2184.89,-47.4\"/>\n",
       "</g>\n",
       "<!-- Winifred -->\n",
       "<g id=\"node23\" class=\"node\">\n",
       "<title>Winifred</title>\n",
       "<ellipse fill=\"none\" stroke=\"black\" cx=\"2454.6\" cy=\"-18\" rx=\"133.24\" ry=\"18\"/>\n",
       "<text text-anchor=\"middle\" x=\"2454.6\" y=\"-12.95\" font-family=\"Times,serif\" font-size=\"14.00\">Winifred(5): shepherd&#39;s daughter</text>\n",
       "</g>\n",
       "<!-- Thomas&#45;&gt;Winifred -->\n",
       "<g id=\"edge23\" class=\"edge\">\n",
       "<title>Thomas&#45;&gt;Winifred</title>\n",
       "<path fill=\"none\" stroke=\"black\" d=\"M2380.54,-147.87C2403.04,-139.99 2426.66,-127.53 2441.6,-108 2454.72,-90.85 2457.46,-66.25 2457.21,-47.26\"/>\n",
       "<polygon fill=\"black\" stroke=\"black\" points=\"2460.66,-47.12 2456.73,-37.28 2453.67,-47.42 2460.66,-47.12\"/>\n",
       "</g>\n",
       "<!-- Ursula&#45;&gt;Vincent -->\n",
       "<g id=\"edge24\" class=\"edge\">\n",
       "<title>Ursula&#45;&gt;Vincent</title>\n",
       "<path fill=\"none\" stroke=\"black\" d=\"M2287.37,-72.41C2268.83,-62.87 2245.32,-50.77 2225.37,-40.5\"/>\n",
       "<polygon fill=\"black\" stroke=\"black\" points=\"2227.09,-36.93 2216.6,-35.47 2223.89,-43.16 2227.09,-36.93\"/>\n",
       "</g>\n",
       "<!-- Ursula&#45;&gt;Winifred -->\n",
       "<g id=\"edge25\" class=\"edge\">\n",
       "<title>Ursula&#45;&gt;Winifred</title>\n",
       "<path fill=\"none\" stroke=\"black\" d=\"M2351.6,-72.41C2369.87,-62.93 2393,-50.94 2412.71,-40.72\"/>\n",
       "<polygon fill=\"black\" stroke=\"black\" points=\"2414.11,-43.42 2421.37,-35.71 2410.88,-37.21 2414.11,-43.42\"/>\n",
       "</g>\n",
       "<!-- Xavier -->\n",
       "<g id=\"node24\" class=\"node\">\n",
       "<title>Xavier</title>\n",
       "<ellipse fill=\"none\" stroke=\"black\" cx=\"2867.6\" cy=\"-162\" rx=\"93.83\" ry=\"18\"/>\n",
       "<text text-anchor=\"middle\" x=\"2867.6\" y=\"-156.95\" font-family=\"Times,serif\" font-size=\"14.00\">Xavier(45): fisherman</text>\n",
       "</g>\n",
       "<!-- Yvonne -->\n",
       "<g id=\"node25\" class=\"node\">\n",
       "<title>Yvonne</title>\n",
       "<ellipse fill=\"none\" stroke=\"black\" cx=\"2867.6\" cy=\"-90\" rx=\"121.47\" ry=\"18\"/>\n",
       "<text text-anchor=\"middle\" x=\"2867.6\" y=\"-84.95\" font-family=\"Times,serif\" font-size=\"14.00\">Yvonne(43): fisherman&#39;s wife</text>\n",
       "</g>\n",
       "<!-- Xavier&#45;&gt;Yvonne -->\n",
       "<g id=\"edge26\" class=\"edge\">\n",
       "<title>Xavier&#45;&gt;Yvonne</title>\n",
       "<path fill=\"none\" stroke=\"black\" stroke-width=\"2\" d=\"M2867.6,-143.7C2867.6,-132.85 2867.6,-118.92 2867.6,-108.1\"/>\n",
       "</g>\n",
       "<!-- Zachary -->\n",
       "<g id=\"node26\" class=\"node\">\n",
       "<title>Zachary</title>\n",
       "<ellipse fill=\"none\" stroke=\"black\" cx=\"2725.6\" cy=\"-18\" rx=\"119.42\" ry=\"18\"/>\n",
       "<text text-anchor=\"middle\" x=\"2725.6\" y=\"-12.95\" font-family=\"Times,serif\" font-size=\"14.00\">Zachary(20): fisherman&#39;s son</text>\n",
       "</g>\n",
       "<!-- Xavier&#45;&gt;Zachary -->\n",
       "<g id=\"edge27\" class=\"edge\">\n",
       "<title>Xavier&#45;&gt;Zachary</title>\n",
       "<path fill=\"none\" stroke=\"black\" d=\"M2802.3,-148.78C2778.43,-141.03 2753.42,-128.43 2737.6,-108 2724.34,-90.87 2721.94,-66.12 2722.52,-47.06\"/>\n",
       "<polygon fill=\"black\" stroke=\"black\" points=\"2726.06,-47.52 2723.17,-37.33 2719.07,-47.1 2726.06,-47.52\"/>\n",
       "</g>\n",
       "<!-- Agnes -->\n",
       "<g id=\"node27\" class=\"node\">\n",
       "<title>Agnes</title>\n",
       "<ellipse fill=\"none\" stroke=\"black\" cx=\"3009.6\" cy=\"-18\" rx=\"132.22\" ry=\"18\"/>\n",
       "<text text-anchor=\"middle\" x=\"3009.6\" y=\"-12.95\" font-family=\"Times,serif\" font-size=\"14.00\">Agnes(18): fisherman&#39;s daughter</text>\n",
       "</g>\n",
       "<!-- Xavier&#45;&gt;Agnes -->\n",
       "<g id=\"edge28\" class=\"edge\">\n",
       "<title>Xavier&#45;&gt;Agnes</title>\n",
       "<path fill=\"none\" stroke=\"black\" d=\"M2932.91,-148.78C2956.78,-141.03 2981.79,-128.43 2997.6,-108 3010.87,-90.87 3013.27,-66.12 3012.69,-47.06\"/>\n",
       "<polygon fill=\"black\" stroke=\"black\" points=\"3016.14,-47.1 3012.04,-37.33 3009.15,-47.52 3016.14,-47.1\"/>\n",
       "</g>\n",
       "<!-- Yvonne&#45;&gt;Zachary -->\n",
       "<g id=\"edge29\" class=\"edge\">\n",
       "<title>Yvonne&#45;&gt;Zachary</title>\n",
       "<path fill=\"none\" stroke=\"black\" d=\"M2833.95,-72.41C2814.55,-62.85 2789.95,-50.72 2769.1,-40.44\"/>\n",
       "<polygon fill=\"black\" stroke=\"black\" points=\"2771.02,-36.99 2760.51,-35.71 2767.93,-43.27 2771.02,-36.99\"/>\n",
       "</g>\n",
       "<!-- Yvonne&#45;&gt;Agnes -->\n",
       "<g id=\"edge30\" class=\"edge\">\n",
       "<title>Yvonne&#45;&gt;Agnes</title>\n",
       "<path fill=\"none\" stroke=\"black\" d=\"M2901.26,-72.41C2920.65,-62.85 2945.25,-50.72 2966.11,-40.44\"/>\n",
       "<polygon fill=\"black\" stroke=\"black\" points=\"2967.28,-43.27 2974.7,-35.71 2964.18,-36.99 2967.28,-43.27\"/>\n",
       "</g>\n",
       "<!-- Benedict -->\n",
       "<g id=\"node28\" class=\"node\">\n",
       "<title>Benedict</title>\n",
       "<ellipse fill=\"none\" stroke=\"black\" cx=\"3217.6\" cy=\"-162\" rx=\"88.71\" ry=\"18\"/>\n",
       "<text text-anchor=\"middle\" x=\"3217.6\" y=\"-156.95\" font-family=\"Times,serif\" font-size=\"14.00\">Benedict(60): hermit</text>\n",
       "</g>\n",
       "<!-- Cecilia -->\n",
       "<g id=\"node29\" class=\"node\">\n",
       "<title>Cecilia</title>\n",
       "<ellipse fill=\"none\" stroke=\"black\" cx=\"3150.6\" cy=\"-90\" rx=\"106.11\" ry=\"18\"/>\n",
       "<text text-anchor=\"middle\" x=\"3150.6\" y=\"-84.95\" font-family=\"Times,serif\" font-size=\"14.00\">Cecilia(58): hermit&#39;s wife</text>\n",
       "</g>\n",
       "<!-- Benedict&#45;&gt;Cecilia -->\n",
       "<g id=\"edge31\" class=\"edge\">\n",
       "<title>Benedict&#45;&gt;Cecilia</title>\n",
       "<path fill=\"none\" stroke=\"black\" stroke-width=\"2\" d=\"M3201.38,-144.05C3191.01,-133.21 3177.58,-119.18 3167.14,-108.28\"/>\n",
       "</g>\n",
       "<!-- Dunstan -->\n",
       "<g id=\"node30\" class=\"node\">\n",
       "<title>Dunstan</title>\n",
       "<ellipse fill=\"none\" stroke=\"black\" cx=\"3279.6\" cy=\"-18\" rx=\"107.14\" ry=\"18\"/>\n",
       "<text text-anchor=\"middle\" x=\"3279.6\" y=\"-12.95\" font-family=\"Times,serif\" font-size=\"14.00\">Dunstan(25): hermit&#39;s son</text>\n",
       "</g>\n",
       "<!-- Benedict&#45;&gt;Dunstan -->\n",
       "<g id=\"edge32\" class=\"edge\">\n",
       "<title>Benedict&#45;&gt;Dunstan</title>\n",
       "<path fill=\"none\" stroke=\"black\" d=\"M3237.43,-144.34C3247.49,-134.76 3258.96,-121.89 3265.6,-108 3274.72,-88.93 3278.12,-65.18 3279.29,-47.02\"/>\n",
       "<polygon fill=\"black\" stroke=\"black\" points=\"3282.82,-47.4 3279.77,-37.25 3275.82,-47.09 3282.82,-47.4\"/>\n",
       "</g>\n",
       "<!-- Cecilia&#45;&gt;Dunstan -->\n",
       "<g id=\"edge33\" class=\"edge\">\n",
       "<title>Cecilia&#45;&gt;Dunstan</title>\n",
       "<path fill=\"none\" stroke=\"black\" d=\"M3181.17,-72.41C3198.56,-62.98 3220.54,-51.05 3239.32,-40.86\"/>\n",
       "<polygon fill=\"black\" stroke=\"black\" points=\"3240.68,-43.56 3247.8,-35.71 3237.35,-37.41 3240.68,-43.56\"/>\n",
       "</g>\n",
       "</g>\n",
       "</svg>\n"
      ],
      "text/plain": [
       "<graphviz.graphs.Digraph at 0x14b734910>"
      ]
     },
     "metadata": {},
     "output_type": "display_data"
    }
   ],
   "source": [
    "display_village(village=village)"
   ]
  },
  {
   "cell_type": "markdown",
   "id": "3c585b3a-e1c0-4414-98fa-6ffeaee38be6",
   "metadata": {},
   "source": [
    "# Final Comments\n",
    "- Hard to get `ChatGPT` to give you what you want and ask for.\n",
    "    - For higher numbers of villagers, will often shorten the list even though there should be plenty of tokens left.\n",
    "- Can sometimes include \"Sure! Here you go...\" type verbage that makes it difficult to parse outputs.\n",
    "    - Will often ignore requests to not do so.\n",
    "- While this may be useful for fixtures in unit testing and other small applications, this may be limitted when larger, richer fake datasets are needed."
   ]
  }
 ],
 "metadata": {
  "kernelspec": {
   "display_name": "Python 3 (ipykernel)",
   "language": "python",
   "name": "python3"
  },
  "language_info": {
   "codemirror_mode": {
    "name": "ipython",
    "version": 3
   },
   "file_extension": ".py",
   "mimetype": "text/x-python",
   "name": "python",
   "nbconvert_exporter": "python",
   "pygments_lexer": "ipython3",
   "version": "3.10.12"
  }
 },
 "nbformat": 4,
 "nbformat_minor": 5
}
